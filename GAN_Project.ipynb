{
  "nbformat": 4,
  "nbformat_minor": 0,
  "metadata": {
    "colab": {
      "provenance": [],
      "collapsed_sections": [
        "w_a3OXnSeV0z",
        "RwaY_YcgRayy",
        "pwlVLNJXfUJw",
        "RTql4Ftiunfr",
        "ujIVtjsYvxOI",
        "B29jrEvwRqXA",
        "3ttl0AK3Hvyh",
        "24qT-sgUO2-d",
        "W0QNbC0YPCKZ",
        "G9HgVWslPGsH",
        "o_5f69nwPtY2",
        "rjGQ-M02cusP",
        "oK20iNRI3Xxb",
        "KZ9UIdmkfxlA"
      ],
      "gpuType": "T4"
    },
    "kernelspec": {
      "name": "python3",
      "display_name": "Python 3"
    },
    "language_info": {
      "name": "python"
    },
    "accelerator": "GPU"
  },
  "cells": [
    {
      "cell_type": "markdown",
      "source": [
        "# 🔴 **Import Libs**"
      ],
      "metadata": {
        "id": "w_a3OXnSeV0z"
      }
    },
    {
      "cell_type": "code",
      "source": [
        "import os\n",
        "import random\n",
        "\n",
        "import numpy as np\n",
        "import pandas as pd\n",
        "import matplotlib.pyplot as plt\n",
        "\n",
        "from PIL import Image\n",
        "\n",
        "import torchvision\n",
        "from torchvision.io import read_image\n",
        "from torchvision import tv_tensors\n",
        "from torchvision.transforms import v2\n",
        "\n",
        "import torch\n",
        "from torch import nn\n",
        "from torch.utils.data import DataLoader, Dataset\n",
        "\n",
        "from torch import optim\n",
        "from torch.nn import functional as F\n",
        "\n",
        "import tqdm\n",
        "# import torchmetrics as tm"
      ],
      "metadata": {
        "id": "vhlVJEkJeTsV"
      },
      "execution_count": null,
      "outputs": []
    },
    {
      "cell_type": "code",
      "source": [
        "!python --version"
      ],
      "metadata": {
        "id": "DEzYlyeqTZqQ",
        "colab": {
          "base_uri": "https://localhost:8080/"
        },
        "outputId": "57661a8d-c353-4501-d07d-c9fd81dca299"
      },
      "execution_count": null,
      "outputs": [
        {
          "output_type": "stream",
          "name": "stdout",
          "text": [
            "Python 3.10.12\n"
          ]
        }
      ]
    },
    {
      "cell_type": "markdown",
      "source": [
        "# 🔴 **Utils**"
      ],
      "metadata": {
        "id": "RwaY_YcgRayy"
      }
    },
    {
      "cell_type": "code",
      "source": [
        "class AverageMeter(object):\n",
        "    \"\"\"Computes and stores the average and current value\"\"\"\n",
        "    def __init__(self):\n",
        "        self.reset()\n",
        "\n",
        "    def reset(self):\n",
        "        self.val = 0\n",
        "        self.avg = 0\n",
        "        self.sum = 0\n",
        "        self.count = 0\n",
        "\n",
        "    def update(self, val, n=1):\n",
        "        self.val = val\n",
        "        self.sum += val * n\n",
        "        self.count += n\n",
        "        self.avg = self.sum / self.count"
      ],
      "metadata": {
        "id": "8yMS7bbmRayz"
      },
      "execution_count": null,
      "outputs": []
    },
    {
      "cell_type": "code",
      "source": [
        "def num_trainable_params(model):\n",
        "  nums = sum(p.numel() for p in model.parameters() if p.requires_grad)/1e6\n",
        "  return nums"
      ],
      "metadata": {
        "id": "PpKbTUEIRayz"
      },
      "execution_count": null,
      "outputs": []
    },
    {
      "cell_type": "code",
      "source": [
        "def set_seed(seed):\n",
        "  np.random.seed(seed)\n",
        "  torch.manual_seed(seed)\n",
        "  if torch.cuda.is_available():\n",
        "      torch.cuda.manual_seed(seed)\n",
        "      # torch.cuda.manual_seed_all(seed)\n",
        "\n",
        "      # torch.backends.cudnn.deterministic = True\n",
        "      # torch.backends.cudnn.benchmark = False\n"
      ],
      "metadata": {
        "id": "6w6sLRLfw398"
      },
      "execution_count": null,
      "outputs": []
    },
    {
      "cell_type": "markdown",
      "source": [
        "# 🔴 **Arguments**"
      ],
      "metadata": {
        "id": "pwlVLNJXfUJw"
      }
    },
    {
      "cell_type": "code",
      "source": [
        "seed = 8\n",
        "\n",
        "batch_size = 8\n",
        "\n",
        "train_path = \"/content/v0.3/processed/train\"\n",
        "valid_path = \"/content/v0.3/processed/test\"\n",
        "\n",
        "train_ann = \"/content/v0.3/processed/train/metadata.csv\"\n",
        "valid_ann = \"/content/v0.3/processed/test/metadata.csv\"\n",
        "\n",
        "color2number = {\n",
        "    \"blue\": 0,\n",
        "    \"brown\": 1,\n",
        "    \"red\": 2,\n",
        "    \"yellow\": 3,\n",
        "    \"green\": 4\n",
        "}\n",
        "\n",
        "number2color = {\n",
        "    0: \"blue\",\n",
        "    1: \"brown\",\n",
        "    2: \"red\",\n",
        "    3: \"yellow\",\n",
        "    4: \"green\"\n",
        "}\n",
        "\n",
        "epochs = 100\n",
        "\n",
        "gf_dim = 64\n",
        "df_dim = 64\n",
        "\n",
        "L1_lambda = 100.0\n",
        "\n",
        "in_w = in_h = 256\n",
        "in_dim = 5\n",
        "out_dim = 3\n",
        "\n",
        "device = torch.device(\"cuda\" if torch.cuda.is_available() else \"cpu\")"
      ],
      "metadata": {
        "id": "BqPVGv0TfUKE"
      },
      "execution_count": null,
      "outputs": []
    },
    {
      "cell_type": "markdown",
      "source": [
        "# 🔴 **Dataset**"
      ],
      "metadata": {
        "id": "RTql4Ftiunfr"
      }
    },
    {
      "cell_type": "markdown",
      "source": [
        "## 🟠 Load the Dataset"
      ],
      "metadata": {
        "id": "ujIVtjsYvxOI"
      }
    },
    {
      "cell_type": "code",
      "source": [
        "from google.colab import drive\n",
        "drive.mount('/content/drive')"
      ],
      "metadata": {
        "colab": {
          "base_uri": "https://localhost:8080/"
        },
        "id": "eqGVSxQjlOru",
        "outputId": "90a5bde5-1957-4344-f794-c1c4d53c97e8"
      },
      "execution_count": null,
      "outputs": [
        {
          "output_type": "stream",
          "name": "stdout",
          "text": [
            "Mounted at /content/drive\n"
          ]
        }
      ]
    },
    {
      "cell_type": "code",
      "source": [
        "!cp /content/drive/MyDrive/CVDatasets/coloring_dataset-v0.3.zip /content/"
      ],
      "metadata": {
        "id": "2IwU4u7SldmY"
      },
      "execution_count": null,
      "outputs": []
    },
    {
      "cell_type": "code",
      "source": [
        "!unzip /content/coloring_dataset-v0.3.zip"
      ],
      "metadata": {
        "id": "VdkD7qeXlmsD",
        "colab": {
          "base_uri": "https://localhost:8080/"
        },
        "outputId": "ae33b393-86b3-4bde-cb5b-365cb5b8f57d"
      },
      "execution_count": null,
      "outputs": [
        {
          "output_type": "stream",
          "name": "stdout",
          "text": [
            "Archive:  /content/coloring_dataset-v0.3.zip\n",
            "  inflating: v0.3/dataset-preparation.ipynb  \n",
            "   creating: v0.3/processed/\n",
            "   creating: v0.3/processed/test/\n",
            "   creating: v0.3/processed/test/inputs/\n",
            "  inflating: v0.3/processed/test/inputs/0001.bmp  \n",
            "  inflating: v0.3/processed/test/inputs/0002.bmp  \n",
            "  inflating: v0.3/processed/test/inputs/0003.bmp  \n",
            "  inflating: v0.3/processed/test/inputs/0004.bmp  \n",
            "  inflating: v0.3/processed/test/metadata.csv  \n",
            "   creating: v0.3/processed/test/targets/\n",
            "  inflating: v0.3/processed/test/targets/0001.bmp  \n",
            "  inflating: v0.3/processed/test/targets/0002.bmp  \n",
            "  inflating: v0.3/processed/test/targets/0003.bmp  \n",
            "  inflating: v0.3/processed/test/targets/0004.bmp  \n",
            "  inflating: v0.3/processed/test/targets/0005.bmp  \n",
            "  inflating: v0.3/processed/test/targets/0006.bmp  \n",
            "  inflating: v0.3/processed/test/targets/0007.bmp  \n",
            "  inflating: v0.3/processed/test/targets/0008.bmp  \n",
            "  inflating: v0.3/processed/test/targets/0009.bmp  \n",
            "  inflating: v0.3/processed/test/targets/0010.bmp  \n",
            "  inflating: v0.3/processed/test/targets/0011.bmp  \n",
            "  inflating: v0.3/processed/test/targets/0012.bmp  \n",
            "  inflating: v0.3/processed/test/targets/0013.bmp  \n",
            "  inflating: v0.3/processed/test/targets/0014.bmp  \n",
            "  inflating: v0.3/processed/test/targets/0015.bmp  \n",
            "  inflating: v0.3/processed/test/targets/0016.bmp  \n",
            "  inflating: v0.3/processed/test/targets/0017.bmp  \n",
            "  inflating: v0.3/processed/test/targets/0018.bmp  \n",
            "  inflating: v0.3/processed/test/targets/0019.bmp  \n",
            "  inflating: v0.3/processed/test/targets/0020.bmp  \n",
            "  inflating: v0.3/processed/test/targets/0021.bmp  \n",
            "  inflating: v0.3/processed/test/targets/0022.bmp  \n",
            "  inflating: v0.3/processed/test/targets/0023.bmp  \n",
            "  inflating: v0.3/processed/test/targets/0024.bmp  \n",
            "  inflating: v0.3/processed/test/targets/0025.bmp  \n",
            "  inflating: v0.3/processed/test/targets/0026.bmp  \n",
            "  inflating: v0.3/processed/test/targets/0027.bmp  \n",
            "  inflating: v0.3/processed/test/targets/0028.bmp  \n",
            "  inflating: v0.3/processed/test/targets/0029.bmp  \n",
            "  inflating: v0.3/processed/test/targets/0030.bmp  \n",
            "  inflating: v0.3/processed/test/targets/0031.bmp  \n",
            "  inflating: v0.3/processed/test/targets/0032.bmp  \n",
            "  inflating: v0.3/processed/test/targets/0033.bmp  \n",
            "  inflating: v0.3/processed/test/targets/0034.bmp  \n",
            "  inflating: v0.3/processed/test/targets/0035.bmp  \n",
            "  inflating: v0.3/processed/test/targets/0036.bmp  \n",
            "  inflating: v0.3/processed/test/targets/0037.bmp  \n",
            "  inflating: v0.3/processed/test/targets/0038.bmp  \n",
            "  inflating: v0.3/processed/test/targets/0039.bmp  \n",
            "  inflating: v0.3/processed/test/targets/0040.bmp  \n",
            "  inflating: v0.3/processed/test/targets/0041.bmp  \n",
            "  inflating: v0.3/processed/test/targets/0042.bmp  \n",
            "  inflating: v0.3/processed/test/targets/0043.bmp  \n",
            "  inflating: v0.3/processed/test/targets/0044.bmp  \n",
            "  inflating: v0.3/processed/test/targets/0045.bmp  \n",
            "  inflating: v0.3/processed/test/targets/0046.bmp  \n",
            "  inflating: v0.3/processed/test/targets/0047.bmp  \n",
            "  inflating: v0.3/processed/test/targets/0048.bmp  \n",
            "  inflating: v0.3/processed/test/targets/0049.bmp  \n",
            "  inflating: v0.3/processed/test/targets/0050.bmp  \n",
            "  inflating: v0.3/processed/test/targets/0051.bmp  \n",
            "  inflating: v0.3/processed/test/targets/0052.bmp  \n",
            "  inflating: v0.3/processed/test/targets/0053.bmp  \n",
            "  inflating: v0.3/processed/test/targets/0054.bmp  \n",
            "  inflating: v0.3/processed/test/targets/0055.bmp  \n",
            "  inflating: v0.3/processed/test/targets/0056.bmp  \n",
            "  inflating: v0.3/processed/test/targets/0057.bmp  \n",
            "  inflating: v0.3/processed/test/targets/0058.bmp  \n",
            "  inflating: v0.3/processed/test/targets/0059.bmp  \n",
            "  inflating: v0.3/processed/test/targets/0060.bmp  \n",
            "  inflating: v0.3/processed/test/targets/0061.bmp  \n",
            "  inflating: v0.3/processed/test/targets/0062.bmp  \n",
            "  inflating: v0.3/processed/test/targets/0063.bmp  \n",
            "  inflating: v0.3/processed/test/targets/0064.bmp  \n",
            "  inflating: v0.3/processed/test/targets/0065.bmp  \n",
            "  inflating: v0.3/processed/test/targets/0066.bmp  \n",
            "  inflating: v0.3/processed/test/targets/0067.bmp  \n",
            "  inflating: v0.3/processed/test/targets/0068.bmp  \n",
            "  inflating: v0.3/processed/test/targets/0069.bmp  \n",
            "  inflating: v0.3/processed/test/targets/0070.bmp  \n",
            "  inflating: v0.3/processed/test/targets/0071.bmp  \n",
            "  inflating: v0.3/processed/test/targets/0072.bmp  \n",
            "  inflating: v0.3/processed/test/targets/0073.bmp  \n",
            "  inflating: v0.3/processed/test/targets/0074.bmp  \n",
            "  inflating: v0.3/processed/test/targets/0075.bmp  \n",
            "  inflating: v0.3/processed/test/targets/0076.bmp  \n",
            "  inflating: v0.3/processed/test/targets/0077.bmp  \n",
            "  inflating: v0.3/processed/test/targets/0078.bmp  \n",
            "  inflating: v0.3/processed/test/targets/0079.bmp  \n",
            "  inflating: v0.3/processed/test/targets/0080.bmp  \n",
            "  inflating: v0.3/processed/test/targets/0081.bmp  \n",
            "  inflating: v0.3/processed/test/targets/0082.bmp  \n",
            "  inflating: v0.3/processed/test/targets/0083.bmp  \n",
            "  inflating: v0.3/processed/test/targets/0084.bmp  \n",
            "  inflating: v0.3/processed/test/targets/0085.bmp  \n",
            "  inflating: v0.3/processed/test/targets/0086.bmp  \n",
            "  inflating: v0.3/processed/test/targets/0087.bmp  \n",
            "  inflating: v0.3/processed/test/targets/0088.bmp  \n",
            "  inflating: v0.3/processed/test/targets/0089.bmp  \n",
            "  inflating: v0.3/processed/test/targets/0090.bmp  \n",
            "  inflating: v0.3/processed/test/targets/0091.bmp  \n",
            "  inflating: v0.3/processed/test/targets/0092.bmp  \n",
            "  inflating: v0.3/processed/test/targets/0093.bmp  \n",
            "  inflating: v0.3/processed/test/targets/0094.bmp  \n",
            "  inflating: v0.3/processed/test/targets/0095.bmp  \n",
            "  inflating: v0.3/processed/test/targets/0096.bmp  \n",
            "  inflating: v0.3/processed/test/targets/0097.bmp  \n",
            "  inflating: v0.3/processed/test/targets/0098.bmp  \n",
            "  inflating: v0.3/processed/test/targets/0099.bmp  \n",
            "  inflating: v0.3/processed/test/targets/0100.bmp  \n",
            "   creating: v0.3/processed/train/\n",
            "   creating: v0.3/processed/train/inputs/\n",
            "  inflating: v0.3/processed/train/inputs/0001.bmp  \n",
            "  inflating: v0.3/processed/train/inputs/0002.bmp  \n",
            "  inflating: v0.3/processed/train/inputs/0003.bmp  \n",
            "  inflating: v0.3/processed/train/inputs/0004.bmp  \n",
            "  inflating: v0.3/processed/train/inputs/0005.bmp  \n",
            "  inflating: v0.3/processed/train/inputs/0006.bmp  \n",
            "  inflating: v0.3/processed/train/inputs/0007.bmp  \n",
            "  inflating: v0.3/processed/train/inputs/0008.bmp  \n",
            "  inflating: v0.3/processed/train/inputs/0009.bmp  \n",
            "  inflating: v0.3/processed/train/inputs/0010.bmp  \n",
            "  inflating: v0.3/processed/train/metadata.csv  \n",
            "   creating: v0.3/processed/train/targets/\n",
            "  inflating: v0.3/processed/train/targets/0001.bmp  \n",
            "  inflating: v0.3/processed/train/targets/0002.bmp  \n",
            "  inflating: v0.3/processed/train/targets/0003.bmp  \n",
            "  inflating: v0.3/processed/train/targets/0004.bmp  \n",
            "  inflating: v0.3/processed/train/targets/0005.bmp  \n",
            "  inflating: v0.3/processed/train/targets/0006.bmp  \n",
            "  inflating: v0.3/processed/train/targets/0007.bmp  \n",
            "  inflating: v0.3/processed/train/targets/0008.bmp  \n",
            "  inflating: v0.3/processed/train/targets/0009.bmp  \n",
            "  inflating: v0.3/processed/train/targets/0010.bmp  \n",
            "  inflating: v0.3/processed/train/targets/0011.bmp  \n",
            "  inflating: v0.3/processed/train/targets/0012.bmp  \n",
            "  inflating: v0.3/processed/train/targets/0013.bmp  \n",
            "  inflating: v0.3/processed/train/targets/0014.bmp  \n",
            "  inflating: v0.3/processed/train/targets/0015.bmp  \n",
            "  inflating: v0.3/processed/train/targets/0016.bmp  \n",
            "  inflating: v0.3/processed/train/targets/0017.bmp  \n",
            "  inflating: v0.3/processed/train/targets/0018.bmp  \n",
            "  inflating: v0.3/processed/train/targets/0019.bmp  \n",
            "  inflating: v0.3/processed/train/targets/0020.bmp  \n",
            "  inflating: v0.3/processed/train/targets/0021.bmp  \n",
            "  inflating: v0.3/processed/train/targets/0022.bmp  \n",
            "  inflating: v0.3/processed/train/targets/0023.bmp  \n",
            "  inflating: v0.3/processed/train/targets/0024.bmp  \n",
            "  inflating: v0.3/processed/train/targets/0025.bmp  \n",
            "  inflating: v0.3/processed/train/targets/0026.bmp  \n",
            "  inflating: v0.3/processed/train/targets/0027.bmp  \n",
            "  inflating: v0.3/processed/train/targets/0028.bmp  \n",
            "  inflating: v0.3/processed/train/targets/0029.bmp  \n",
            "  inflating: v0.3/processed/train/targets/0030.bmp  \n",
            "  inflating: v0.3/processed/train/targets/0031.bmp  \n",
            "  inflating: v0.3/processed/train/targets/0032.bmp  \n",
            "  inflating: v0.3/processed/train/targets/0033.bmp  \n",
            "  inflating: v0.3/processed/train/targets/0034.bmp  \n",
            "  inflating: v0.3/processed/train/targets/0035.bmp  \n",
            "  inflating: v0.3/processed/train/targets/0036.bmp  \n",
            "  inflating: v0.3/processed/train/targets/0037.bmp  \n",
            "  inflating: v0.3/processed/train/targets/0038.bmp  \n",
            "  inflating: v0.3/processed/train/targets/0039.bmp  \n",
            "  inflating: v0.3/processed/train/targets/0040.bmp  \n",
            "  inflating: v0.3/processed/train/targets/0041.bmp  \n",
            "  inflating: v0.3/processed/train/targets/0042.bmp  \n",
            "  inflating: v0.3/processed/train/targets/0043.bmp  \n",
            "  inflating: v0.3/processed/train/targets/0044.bmp  \n",
            "  inflating: v0.3/processed/train/targets/0045.bmp  \n",
            "  inflating: v0.3/processed/train/targets/0046.bmp  \n",
            "  inflating: v0.3/processed/train/targets/0047.bmp  \n",
            "  inflating: v0.3/processed/train/targets/0048.bmp  \n",
            "  inflating: v0.3/processed/train/targets/0049.bmp  \n",
            "  inflating: v0.3/processed/train/targets/0050.bmp  \n",
            "  inflating: v0.3/processed/train/targets/0051.bmp  \n",
            "  inflating: v0.3/processed/train/targets/0052.bmp  \n",
            "  inflating: v0.3/processed/train/targets/0053.bmp  \n",
            "  inflating: v0.3/processed/train/targets/0054.bmp  \n",
            "  inflating: v0.3/processed/train/targets/0055.bmp  \n",
            "  inflating: v0.3/processed/train/targets/0056.bmp  \n",
            "  inflating: v0.3/processed/train/targets/0057.bmp  \n",
            "  inflating: v0.3/processed/train/targets/0058.bmp  \n",
            "  inflating: v0.3/processed/train/targets/0059.bmp  \n",
            "  inflating: v0.3/processed/train/targets/0060.bmp  \n",
            "  inflating: v0.3/processed/train/targets/0061.bmp  \n",
            "  inflating: v0.3/processed/train/targets/0062.bmp  \n",
            "  inflating: v0.3/processed/train/targets/0063.bmp  \n",
            "  inflating: v0.3/processed/train/targets/0064.bmp  \n",
            "  inflating: v0.3/processed/train/targets/0065.bmp  \n",
            "  inflating: v0.3/processed/train/targets/0066.bmp  \n",
            "  inflating: v0.3/processed/train/targets/0067.bmp  \n",
            "  inflating: v0.3/processed/train/targets/0068.bmp  \n",
            "  inflating: v0.3/processed/train/targets/0069.bmp  \n",
            "  inflating: v0.3/processed/train/targets/0070.bmp  \n",
            "  inflating: v0.3/processed/train/targets/0071.bmp  \n",
            "  inflating: v0.3/processed/train/targets/0072.bmp  \n",
            "  inflating: v0.3/processed/train/targets/0073.bmp  \n",
            "  inflating: v0.3/processed/train/targets/0074.bmp  \n",
            "  inflating: v0.3/processed/train/targets/0075.bmp  \n",
            "  inflating: v0.3/processed/train/targets/0076.bmp  \n",
            "  inflating: v0.3/processed/train/targets/0077.bmp  \n",
            "  inflating: v0.3/processed/train/targets/0078.bmp  \n",
            "  inflating: v0.3/processed/train/targets/0079.bmp  \n",
            "  inflating: v0.3/processed/train/targets/0080.bmp  \n",
            "  inflating: v0.3/processed/train/targets/0081.bmp  \n",
            "  inflating: v0.3/processed/train/targets/0082.bmp  \n",
            "  inflating: v0.3/processed/train/targets/0083.bmp  \n",
            "  inflating: v0.3/processed/train/targets/0084.bmp  \n",
            "  inflating: v0.3/processed/train/targets/0085.bmp  \n",
            "  inflating: v0.3/processed/train/targets/0086.bmp  \n",
            "  inflating: v0.3/processed/train/targets/0087.bmp  \n",
            "  inflating: v0.3/processed/train/targets/0088.bmp  \n",
            "  inflating: v0.3/processed/train/targets/0089.bmp  \n",
            "  inflating: v0.3/processed/train/targets/0090.bmp  \n",
            "  inflating: v0.3/processed/train/targets/0091.bmp  \n",
            "  inflating: v0.3/processed/train/targets/0092.bmp  \n",
            "  inflating: v0.3/processed/train/targets/0093.bmp  \n",
            "  inflating: v0.3/processed/train/targets/0094.bmp  \n",
            "  inflating: v0.3/processed/train/targets/0095.bmp  \n",
            "  inflating: v0.3/processed/train/targets/0096.bmp  \n",
            "  inflating: v0.3/processed/train/targets/0097.bmp  \n",
            "  inflating: v0.3/processed/train/targets/0098.bmp  \n",
            "  inflating: v0.3/processed/train/targets/0099.bmp  \n",
            "  inflating: v0.3/processed/train/targets/0100.bmp  \n",
            "  inflating: v0.3/processed/train/targets/0101.bmp  \n",
            "  inflating: v0.3/processed/train/targets/0102.bmp  \n",
            "  inflating: v0.3/processed/train/targets/0103.bmp  \n",
            "  inflating: v0.3/processed/train/targets/0104.bmp  \n",
            "  inflating: v0.3/processed/train/targets/0105.bmp  \n",
            "  inflating: v0.3/processed/train/targets/0106.bmp  \n",
            "  inflating: v0.3/processed/train/targets/0107.bmp  \n",
            "  inflating: v0.3/processed/train/targets/0108.bmp  \n",
            "  inflating: v0.3/processed/train/targets/0109.bmp  \n",
            "  inflating: v0.3/processed/train/targets/0110.bmp  \n",
            "  inflating: v0.3/processed/train/targets/0111.bmp  \n",
            "  inflating: v0.3/processed/train/targets/0112.bmp  \n",
            "  inflating: v0.3/processed/train/targets/0113.bmp  \n",
            "  inflating: v0.3/processed/train/targets/0114.bmp  \n",
            "  inflating: v0.3/processed/train/targets/0115.bmp  \n",
            "  inflating: v0.3/processed/train/targets/0116.bmp  \n",
            "  inflating: v0.3/processed/train/targets/0117.bmp  \n",
            "  inflating: v0.3/processed/train/targets/0118.bmp  \n",
            "  inflating: v0.3/processed/train/targets/0119.bmp  \n",
            "  inflating: v0.3/processed/train/targets/0120.bmp  \n",
            "  inflating: v0.3/processed/train/targets/0121.bmp  \n",
            "  inflating: v0.3/processed/train/targets/0122.bmp  \n",
            "  inflating: v0.3/processed/train/targets/0123.bmp  \n",
            "  inflating: v0.3/processed/train/targets/0124.bmp  \n",
            "  inflating: v0.3/processed/train/targets/0125.bmp  \n",
            "  inflating: v0.3/processed/train/targets/0126.bmp  \n",
            "  inflating: v0.3/processed/train/targets/0127.bmp  \n",
            "  inflating: v0.3/processed/train/targets/0128.bmp  \n",
            "  inflating: v0.3/processed/train/targets/0129.bmp  \n",
            "  inflating: v0.3/processed/train/targets/0130.bmp  \n",
            "  inflating: v0.3/processed/train/targets/0131.bmp  \n",
            "  inflating: v0.3/processed/train/targets/0132.bmp  \n",
            "  inflating: v0.3/processed/train/targets/0133.bmp  \n",
            "  inflating: v0.3/processed/train/targets/0134.bmp  \n",
            "  inflating: v0.3/processed/train/targets/0135.bmp  \n",
            "  inflating: v0.3/processed/train/targets/0136.bmp  \n",
            "  inflating: v0.3/processed/train/targets/0137.bmp  \n",
            "  inflating: v0.3/processed/train/targets/0138.bmp  \n",
            "  inflating: v0.3/processed/train/targets/0139.bmp  \n",
            "  inflating: v0.3/processed/train/targets/0140.bmp  \n",
            "  inflating: v0.3/processed/train/targets/0141.bmp  \n",
            "  inflating: v0.3/processed/train/targets/0142.bmp  \n",
            "  inflating: v0.3/processed/train/targets/0143.bmp  \n",
            "  inflating: v0.3/processed/train/targets/0144.bmp  \n",
            "  inflating: v0.3/processed/train/targets/0145.bmp  \n",
            "  inflating: v0.3/processed/train/targets/0146.bmp  \n",
            "  inflating: v0.3/processed/train/targets/0147.bmp  \n",
            "  inflating: v0.3/processed/train/targets/0148.bmp  \n",
            "  inflating: v0.3/processed/train/targets/0149.bmp  \n",
            "  inflating: v0.3/processed/train/targets/0150.bmp  \n",
            "  inflating: v0.3/processed/train/targets/0151.bmp  \n",
            "  inflating: v0.3/processed/train/targets/0152.bmp  \n",
            "  inflating: v0.3/processed/train/targets/0153.bmp  \n",
            "  inflating: v0.3/processed/train/targets/0154.bmp  \n",
            "  inflating: v0.3/processed/train/targets/0155.bmp  \n",
            "  inflating: v0.3/processed/train/targets/0156.bmp  \n",
            "  inflating: v0.3/processed/train/targets/0157.bmp  \n",
            "  inflating: v0.3/processed/train/targets/0158.bmp  \n",
            "  inflating: v0.3/processed/train/targets/0159.bmp  \n",
            "  inflating: v0.3/processed/train/targets/0160.bmp  \n",
            "  inflating: v0.3/processed/train/targets/0161.bmp  \n",
            "  inflating: v0.3/processed/train/targets/0162.bmp  \n",
            "  inflating: v0.3/processed/train/targets/0163.bmp  \n",
            "  inflating: v0.3/processed/train/targets/0164.bmp  \n",
            "  inflating: v0.3/processed/train/targets/0165.bmp  \n",
            "  inflating: v0.3/processed/train/targets/0166.bmp  \n",
            "  inflating: v0.3/processed/train/targets/0167.bmp  \n",
            "  inflating: v0.3/processed/train/targets/0168.bmp  \n",
            "  inflating: v0.3/processed/train/targets/0169.bmp  \n",
            "  inflating: v0.3/processed/train/targets/0170.bmp  \n",
            "  inflating: v0.3/processed/train/targets/0171.bmp  \n",
            "  inflating: v0.3/processed/train/targets/0172.bmp  \n",
            "  inflating: v0.3/processed/train/targets/0173.bmp  \n",
            "  inflating: v0.3/processed/train/targets/0174.bmp  \n",
            "  inflating: v0.3/processed/train/targets/0175.bmp  \n",
            "  inflating: v0.3/processed/train/targets/0176.bmp  \n",
            "  inflating: v0.3/processed/train/targets/0177.bmp  \n",
            "  inflating: v0.3/processed/train/targets/0178.bmp  \n",
            "  inflating: v0.3/processed/train/targets/0179.bmp  \n",
            "  inflating: v0.3/processed/train/targets/0180.bmp  \n",
            "  inflating: v0.3/processed/train/targets/0181.bmp  \n",
            "  inflating: v0.3/processed/train/targets/0182.bmp  \n",
            "  inflating: v0.3/processed/train/targets/0183.bmp  \n",
            "  inflating: v0.3/processed/train/targets/0184.bmp  \n",
            "  inflating: v0.3/processed/train/targets/0185.bmp  \n",
            "  inflating: v0.3/processed/train/targets/0186.bmp  \n",
            "  inflating: v0.3/processed/train/targets/0187.bmp  \n",
            "  inflating: v0.3/processed/train/targets/0188.bmp  \n",
            "  inflating: v0.3/processed/train/targets/0189.bmp  \n",
            "  inflating: v0.3/processed/train/targets/0190.bmp  \n",
            "  inflating: v0.3/processed/train/targets/0191.bmp  \n",
            "  inflating: v0.3/processed/train/targets/0192.bmp  \n",
            "  inflating: v0.3/processed/train/targets/0193.bmp  \n",
            "  inflating: v0.3/processed/train/targets/0194.bmp  \n",
            "  inflating: v0.3/processed/train/targets/0195.bmp  \n",
            "  inflating: v0.3/processed/train/targets/0196.bmp  \n",
            "  inflating: v0.3/processed/train/targets/0197.bmp  \n",
            "  inflating: v0.3/processed/train/targets/0198.bmp  \n",
            "  inflating: v0.3/processed/train/targets/0199.bmp  \n",
            "  inflating: v0.3/processed/train/targets/0200.bmp  \n",
            "  inflating: v0.3/processed/train/targets/0201.bmp  \n",
            "  inflating: v0.3/processed/train/targets/0202.bmp  \n",
            "  inflating: v0.3/processed/train/targets/0203.bmp  \n",
            "  inflating: v0.3/processed/train/targets/0204.bmp  \n",
            "  inflating: v0.3/processed/train/targets/0205.bmp  \n",
            "  inflating: v0.3/processed/train/targets/0206.bmp  \n",
            "  inflating: v0.3/processed/train/targets/0207.bmp  \n",
            "  inflating: v0.3/processed/train/targets/0208.bmp  \n",
            "  inflating: v0.3/processed/train/targets/0209.bmp  \n",
            "  inflating: v0.3/processed/train/targets/0210.bmp  \n",
            "  inflating: v0.3/processed/train/targets/0211.bmp  \n",
            "  inflating: v0.3/processed/train/targets/0212.bmp  \n",
            "  inflating: v0.3/processed/train/targets/0213.bmp  \n",
            "  inflating: v0.3/processed/train/targets/0214.bmp  \n",
            "  inflating: v0.3/processed/train/targets/0215.bmp  \n",
            "  inflating: v0.3/processed/train/targets/0216.bmp  \n",
            "  inflating: v0.3/processed/train/targets/0217.bmp  \n",
            "  inflating: v0.3/processed/train/targets/0218.bmp  \n",
            "  inflating: v0.3/processed/train/targets/0219.bmp  \n",
            "  inflating: v0.3/processed/train/targets/0220.bmp  \n",
            "  inflating: v0.3/processed/train/targets/0221.bmp  \n",
            "  inflating: v0.3/processed/train/targets/0222.bmp  \n",
            "  inflating: v0.3/processed/train/targets/0223.bmp  \n",
            "  inflating: v0.3/processed/train/targets/0224.bmp  \n",
            "  inflating: v0.3/processed/train/targets/0225.bmp  \n",
            "  inflating: v0.3/processed/train/targets/0226.bmp  \n",
            "  inflating: v0.3/processed/train/targets/0227.bmp  \n",
            "  inflating: v0.3/processed/train/targets/0228.bmp  \n",
            "  inflating: v0.3/processed/train/targets/0229.bmp  \n",
            "  inflating: v0.3/processed/train/targets/0230.bmp  \n",
            "  inflating: v0.3/processed/train/targets/0231.bmp  \n",
            "  inflating: v0.3/processed/train/targets/0232.bmp  \n",
            "  inflating: v0.3/processed/train/targets/0233.bmp  \n",
            "  inflating: v0.3/processed/train/targets/0234.bmp  \n",
            "  inflating: v0.3/processed/train/targets/0235.bmp  \n",
            "  inflating: v0.3/processed/train/targets/0236.bmp  \n",
            "  inflating: v0.3/processed/train/targets/0237.bmp  \n",
            "  inflating: v0.3/processed/train/targets/0238.bmp  \n",
            "  inflating: v0.3/processed/train/targets/0239.bmp  \n",
            "  inflating: v0.3/processed/train/targets/0240.bmp  \n",
            "  inflating: v0.3/processed/train/targets/0241.bmp  \n",
            "  inflating: v0.3/processed/train/targets/0242.bmp  \n",
            "  inflating: v0.3/processed/train/targets/0243.bmp  \n",
            "  inflating: v0.3/processed/train/targets/0244.bmp  \n",
            "  inflating: v0.3/processed/train/targets/0245.bmp  \n",
            "  inflating: v0.3/processed/train/targets/0246.bmp  \n",
            "  inflating: v0.3/processed/train/targets/0247.bmp  \n",
            "  inflating: v0.3/processed/train/targets/0248.bmp  \n",
            "  inflating: v0.3/processed/train/targets/0249.bmp  \n",
            "  inflating: v0.3/processed/train/targets/0250.bmp  \n",
            "   creating: v0.3/raw/\n",
            "  inflating: v0.3/raw/pallete.txt    \n",
            "   creating: v0.3/raw/test/\n",
            "   creating: v0.3/raw/test/inputs/\n",
            "  inflating: v0.3/raw/test/inputs/0.png  \n",
            "  inflating: v0.3/raw/test/inputs/1.png  \n",
            "  inflating: v0.3/raw/test/inputs/2.png  \n",
            "  inflating: v0.3/raw/test/inputs/3.png  \n",
            "   creating: v0.3/raw/test/targets/\n",
            "   creating: v0.3/raw/test/targets/0/\n",
            "  inflating: v0.3/raw/test/targets/0/girl (1).png  \n",
            "  inflating: v0.3/raw/test/targets/0/girl (10).png  \n",
            "  inflating: v0.3/raw/test/targets/0/girl (11).png  \n",
            "  inflating: v0.3/raw/test/targets/0/girl (12).png  \n",
            "  inflating: v0.3/raw/test/targets/0/girl (13).png  \n",
            "  inflating: v0.3/raw/test/targets/0/girl (14).png  \n",
            "  inflating: v0.3/raw/test/targets/0/girl (15).png  \n",
            "  inflating: v0.3/raw/test/targets/0/girl (16).png  \n",
            "  inflating: v0.3/raw/test/targets/0/girl (17).png  \n",
            "  inflating: v0.3/raw/test/targets/0/girl (18).png  \n",
            "  inflating: v0.3/raw/test/targets/0/girl (19).png  \n",
            "  inflating: v0.3/raw/test/targets/0/girl (2).png  \n",
            "  inflating: v0.3/raw/test/targets/0/girl (20).png  \n",
            "  inflating: v0.3/raw/test/targets/0/girl (21).png  \n",
            "  inflating: v0.3/raw/test/targets/0/girl (22).png  \n",
            "  inflating: v0.3/raw/test/targets/0/girl (23).png  \n",
            "  inflating: v0.3/raw/test/targets/0/girl (24).png  \n",
            "  inflating: v0.3/raw/test/targets/0/girl (3).png  \n",
            "  inflating: v0.3/raw/test/targets/0/girl (4).png  \n",
            "  inflating: v0.3/raw/test/targets/0/girl (5).png  \n",
            "  inflating: v0.3/raw/test/targets/0/girl (6).png  \n",
            "  inflating: v0.3/raw/test/targets/0/girl (7).png  \n",
            "  inflating: v0.3/raw/test/targets/0/girl (8).png  \n",
            "  inflating: v0.3/raw/test/targets/0/girl (9).png  \n",
            "  inflating: v0.3/raw/test/targets/0/girl.png  \n",
            "   creating: v0.3/raw/test/targets/1/\n",
            "  inflating: v0.3/raw/test/targets/1/girl (1).png  \n",
            "  inflating: v0.3/raw/test/targets/1/girl (10).png  \n",
            "  inflating: v0.3/raw/test/targets/1/girl (11).png  \n",
            "  inflating: v0.3/raw/test/targets/1/girl (12).png  \n",
            "  inflating: v0.3/raw/test/targets/1/girl (13).png  \n",
            "  inflating: v0.3/raw/test/targets/1/girl (14).png  \n",
            "  inflating: v0.3/raw/test/targets/1/girl (15).png  \n",
            "  inflating: v0.3/raw/test/targets/1/girl (16).png  \n",
            "  inflating: v0.3/raw/test/targets/1/girl (17).png  \n",
            "  inflating: v0.3/raw/test/targets/1/girl (18).png  \n",
            "  inflating: v0.3/raw/test/targets/1/girl (19).png  \n",
            "  inflating: v0.3/raw/test/targets/1/girl (2).png  \n",
            "  inflating: v0.3/raw/test/targets/1/girl (20).png  \n",
            "  inflating: v0.3/raw/test/targets/1/girl (21).png  \n",
            "  inflating: v0.3/raw/test/targets/1/girl (22).png  \n",
            "  inflating: v0.3/raw/test/targets/1/girl (23).png  \n",
            "  inflating: v0.3/raw/test/targets/1/girl (24).png  \n",
            "  inflating: v0.3/raw/test/targets/1/girl (25).png  \n",
            "  inflating: v0.3/raw/test/targets/1/girl (3).png  \n",
            "  inflating: v0.3/raw/test/targets/1/girl (4).png  \n",
            "  inflating: v0.3/raw/test/targets/1/girl (5).png  \n",
            "  inflating: v0.3/raw/test/targets/1/girl (6).png  \n",
            "  inflating: v0.3/raw/test/targets/1/girl (7).png  \n",
            "  inflating: v0.3/raw/test/targets/1/girl (8).png  \n",
            "  inflating: v0.3/raw/test/targets/1/girl (9).png  \n",
            "   creating: v0.3/raw/test/targets/2/\n",
            "  inflating: v0.3/raw/test/targets/2/boy (1).png  \n",
            "  inflating: v0.3/raw/test/targets/2/boy (10).png  \n",
            "  inflating: v0.3/raw/test/targets/2/boy (11).png  \n",
            "  inflating: v0.3/raw/test/targets/2/boy (12).png  \n",
            "  inflating: v0.3/raw/test/targets/2/boy (13).png  \n",
            "  inflating: v0.3/raw/test/targets/2/boy (14).png  \n",
            "  inflating: v0.3/raw/test/targets/2/boy (15).png  \n",
            "  inflating: v0.3/raw/test/targets/2/boy (16).png  \n",
            "  inflating: v0.3/raw/test/targets/2/boy (17).png  \n",
            "  inflating: v0.3/raw/test/targets/2/boy (18).png  \n",
            "  inflating: v0.3/raw/test/targets/2/boy (19).png  \n",
            "  inflating: v0.3/raw/test/targets/2/boy (2).png  \n",
            "  inflating: v0.3/raw/test/targets/2/boy (20).png  \n",
            "  inflating: v0.3/raw/test/targets/2/boy (21).png  \n",
            "  inflating: v0.3/raw/test/targets/2/boy (22).png  \n",
            "  inflating: v0.3/raw/test/targets/2/boy (23).png  \n",
            "  inflating: v0.3/raw/test/targets/2/boy (24).png  \n",
            "  inflating: v0.3/raw/test/targets/2/boy (25).png  \n",
            "  inflating: v0.3/raw/test/targets/2/boy (3).png  \n",
            "  inflating: v0.3/raw/test/targets/2/boy (4).png  \n",
            "  inflating: v0.3/raw/test/targets/2/boy (5).png  \n",
            "  inflating: v0.3/raw/test/targets/2/boy (6).png  \n",
            "  inflating: v0.3/raw/test/targets/2/boy (7).png  \n",
            "  inflating: v0.3/raw/test/targets/2/boy (8).png  \n",
            "  inflating: v0.3/raw/test/targets/2/boy (9).png  \n",
            "   creating: v0.3/raw/test/targets/3/\n",
            "  inflating: v0.3/raw/test/targets/3/boy (1).png  \n",
            "  inflating: v0.3/raw/test/targets/3/boy (10).png  \n",
            "  inflating: v0.3/raw/test/targets/3/boy (11).png  \n",
            "  inflating: v0.3/raw/test/targets/3/boy (12).png  \n",
            "  inflating: v0.3/raw/test/targets/3/boy (13).png  \n",
            "  inflating: v0.3/raw/test/targets/3/boy (14).png  \n",
            "  inflating: v0.3/raw/test/targets/3/boy (15).png  \n",
            "  inflating: v0.3/raw/test/targets/3/boy (16).png  \n",
            "  inflating: v0.3/raw/test/targets/3/boy (17).png  \n",
            "  inflating: v0.3/raw/test/targets/3/boy (18).png  \n",
            "  inflating: v0.3/raw/test/targets/3/boy (19).png  \n",
            "  inflating: v0.3/raw/test/targets/3/boy (2).png  \n",
            "  inflating: v0.3/raw/test/targets/3/boy (20).png  \n",
            "  inflating: v0.3/raw/test/targets/3/boy (21).png  \n",
            "  inflating: v0.3/raw/test/targets/3/boy (22).png  \n",
            "  inflating: v0.3/raw/test/targets/3/boy (23).png  \n",
            "  inflating: v0.3/raw/test/targets/3/boy (24).png  \n",
            "  inflating: v0.3/raw/test/targets/3/boy (25).png  \n",
            "  inflating: v0.3/raw/test/targets/3/boy (3).png  \n",
            "  inflating: v0.3/raw/test/targets/3/boy (4).png  \n",
            "  inflating: v0.3/raw/test/targets/3/boy (5).png  \n",
            "  inflating: v0.3/raw/test/targets/3/boy (6).png  \n",
            "  inflating: v0.3/raw/test/targets/3/boy (7).png  \n",
            "  inflating: v0.3/raw/test/targets/3/boy (8).png  \n",
            "  inflating: v0.3/raw/test/targets/3/boy (9).png  \n",
            "   creating: v0.3/raw/train/\n",
            "   creating: v0.3/raw/train/inputs/\n",
            "  inflating: v0.3/raw/train/inputs/0.png  \n",
            "  inflating: v0.3/raw/train/inputs/1.png  \n",
            "  inflating: v0.3/raw/train/inputs/2.png  \n",
            "  inflating: v0.3/raw/train/inputs/3.png  \n",
            "  inflating: v0.3/raw/train/inputs/4.png  \n",
            "  inflating: v0.3/raw/train/inputs/5.png  \n",
            "  inflating: v0.3/raw/train/inputs/6.png  \n",
            "  inflating: v0.3/raw/train/inputs/7.png  \n",
            "  inflating: v0.3/raw/train/inputs/8.png  \n",
            "  inflating: v0.3/raw/train/inputs/9.png  \n",
            "   creating: v0.3/raw/train/targets/\n",
            "   creating: v0.3/raw/train/targets/0/\n",
            "  inflating: v0.3/raw/train/targets/0/girl (1).png  \n",
            "  inflating: v0.3/raw/train/targets/0/girl (10).png  \n",
            "  inflating: v0.3/raw/train/targets/0/girl (11).png  \n",
            "  inflating: v0.3/raw/train/targets/0/girl (12).png  \n",
            "  inflating: v0.3/raw/train/targets/0/girl (13).png  \n",
            "  inflating: v0.3/raw/train/targets/0/girl (14).png  \n",
            "  inflating: v0.3/raw/train/targets/0/girl (15).png  \n",
            "  inflating: v0.3/raw/train/targets/0/girl (16).png  \n",
            "  inflating: v0.3/raw/train/targets/0/girl (17).png  \n",
            "  inflating: v0.3/raw/train/targets/0/girl (18).png  \n",
            "  inflating: v0.3/raw/train/targets/0/girl (19).png  \n",
            "  inflating: v0.3/raw/train/targets/0/girl (2).png  \n",
            "  inflating: v0.3/raw/train/targets/0/girl (20).png  \n",
            "  inflating: v0.3/raw/train/targets/0/girl (21).png  \n",
            "  inflating: v0.3/raw/train/targets/0/girl (22).png  \n",
            "  inflating: v0.3/raw/train/targets/0/girl (23).png  \n",
            "  inflating: v0.3/raw/train/targets/0/girl (24).png  \n",
            "  inflating: v0.3/raw/train/targets/0/girl (3).png  \n",
            "  inflating: v0.3/raw/train/targets/0/girl (4).png  \n",
            "  inflating: v0.3/raw/train/targets/0/girl (5).png  \n",
            "  inflating: v0.3/raw/train/targets/0/girl (6).png  \n",
            "  inflating: v0.3/raw/train/targets/0/girl (7).png  \n",
            "  inflating: v0.3/raw/train/targets/0/girl (8).png  \n",
            "  inflating: v0.3/raw/train/targets/0/girl (9).png  \n",
            "  inflating: v0.3/raw/train/targets/0/girl.png  \n",
            "   creating: v0.3/raw/train/targets/1/\n",
            "  inflating: v0.3/raw/train/targets/1/boy (1).png  \n",
            "  inflating: v0.3/raw/train/targets/1/boy (10).png  \n",
            "  inflating: v0.3/raw/train/targets/1/boy (11).png  \n",
            "  inflating: v0.3/raw/train/targets/1/boy (12).png  \n",
            "  inflating: v0.3/raw/train/targets/1/boy (13).png  \n",
            "  inflating: v0.3/raw/train/targets/1/boy (14).png  \n",
            "  inflating: v0.3/raw/train/targets/1/boy (15).png  \n",
            "  inflating: v0.3/raw/train/targets/1/boy (16).png  \n",
            "  inflating: v0.3/raw/train/targets/1/boy (17).png  \n",
            "  inflating: v0.3/raw/train/targets/1/boy (18).png  \n",
            "  inflating: v0.3/raw/train/targets/1/boy (19).png  \n",
            "  inflating: v0.3/raw/train/targets/1/boy (2).png  \n",
            "  inflating: v0.3/raw/train/targets/1/boy (20).png  \n",
            "  inflating: v0.3/raw/train/targets/1/boy (21).png  \n",
            "  inflating: v0.3/raw/train/targets/1/boy (22).png  \n",
            "  inflating: v0.3/raw/train/targets/1/boy (23).png  \n",
            "  inflating: v0.3/raw/train/targets/1/boy (24).png  \n",
            "  inflating: v0.3/raw/train/targets/1/boy (25).png  \n",
            "  inflating: v0.3/raw/train/targets/1/boy (3).png  \n",
            "  inflating: v0.3/raw/train/targets/1/boy (4).png  \n",
            "  inflating: v0.3/raw/train/targets/1/boy (5).png  \n",
            "  inflating: v0.3/raw/train/targets/1/boy (6).png  \n",
            "  inflating: v0.3/raw/train/targets/1/boy (7).png  \n",
            "  inflating: v0.3/raw/train/targets/1/boy (8).png  \n",
            "  inflating: v0.3/raw/train/targets/1/boy (9).png  \n",
            "   creating: v0.3/raw/train/targets/2/\n",
            "  inflating: v0.3/raw/train/targets/2/girl (1).png  \n",
            "  inflating: v0.3/raw/train/targets/2/girl (10).png  \n",
            "  inflating: v0.3/raw/train/targets/2/girl (11).png  \n",
            "  inflating: v0.3/raw/train/targets/2/girl (12).png  \n",
            "  inflating: v0.3/raw/train/targets/2/girl (13).png  \n",
            "  inflating: v0.3/raw/train/targets/2/girl (14).png  \n",
            "  inflating: v0.3/raw/train/targets/2/girl (15).png  \n",
            "  inflating: v0.3/raw/train/targets/2/girl (16).png  \n",
            "  inflating: v0.3/raw/train/targets/2/girl (17).png  \n",
            "  inflating: v0.3/raw/train/targets/2/girl (18).png  \n",
            "  inflating: v0.3/raw/train/targets/2/girl (19).png  \n",
            "  inflating: v0.3/raw/train/targets/2/girl (2).png  \n",
            "  inflating: v0.3/raw/train/targets/2/girl (20).png  \n",
            "  inflating: v0.3/raw/train/targets/2/girl (21).png  \n",
            "  inflating: v0.3/raw/train/targets/2/girl (22).png  \n",
            "  inflating: v0.3/raw/train/targets/2/girl (23).png  \n",
            "  inflating: v0.3/raw/train/targets/2/girl (24).png  \n",
            "  inflating: v0.3/raw/train/targets/2/girl (3).png  \n",
            "  inflating: v0.3/raw/train/targets/2/girl (4).png  \n",
            "  inflating: v0.3/raw/train/targets/2/girl (5).png  \n",
            "  inflating: v0.3/raw/train/targets/2/girl (6).png  \n",
            "  inflating: v0.3/raw/train/targets/2/girl (7).png  \n",
            "  inflating: v0.3/raw/train/targets/2/girl (8).png  \n",
            "  inflating: v0.3/raw/train/targets/2/girl (9).png  \n",
            "  inflating: v0.3/raw/train/targets/2/girl.png  \n",
            "   creating: v0.3/raw/train/targets/3/\n",
            "  inflating: v0.3/raw/train/targets/3/girl (1).png  \n",
            "  inflating: v0.3/raw/train/targets/3/girl (10).png  \n",
            "  inflating: v0.3/raw/train/targets/3/girl (11).png  \n",
            "  inflating: v0.3/raw/train/targets/3/girl (12).png  \n",
            "  inflating: v0.3/raw/train/targets/3/girl (13).png  \n",
            "  inflating: v0.3/raw/train/targets/3/girl (14).png  \n",
            "  inflating: v0.3/raw/train/targets/3/girl (15).png  \n",
            "  inflating: v0.3/raw/train/targets/3/girl (16).png  \n",
            "  inflating: v0.3/raw/train/targets/3/girl (17).png  \n",
            "  inflating: v0.3/raw/train/targets/3/girl (18).png  \n",
            "  inflating: v0.3/raw/train/targets/3/girl (19).png  \n",
            "  inflating: v0.3/raw/train/targets/3/girl (2).png  \n",
            "  inflating: v0.3/raw/train/targets/3/girl (20).png  \n",
            "  inflating: v0.3/raw/train/targets/3/girl (21).png  \n",
            "  inflating: v0.3/raw/train/targets/3/girl (22).png  \n",
            "  inflating: v0.3/raw/train/targets/3/girl (23).png  \n",
            "  inflating: v0.3/raw/train/targets/3/girl (24).png  \n",
            "  inflating: v0.3/raw/train/targets/3/girl (3).png  \n",
            "  inflating: v0.3/raw/train/targets/3/girl (4).png  \n",
            "  inflating: v0.3/raw/train/targets/3/girl (5).png  \n",
            "  inflating: v0.3/raw/train/targets/3/girl (6).png  \n",
            "  inflating: v0.3/raw/train/targets/3/girl (7).png  \n",
            "  inflating: v0.3/raw/train/targets/3/girl (8).png  \n",
            "  inflating: v0.3/raw/train/targets/3/girl (9).png  \n",
            "  inflating: v0.3/raw/train/targets/3/girl.png  \n",
            "   creating: v0.3/raw/train/targets/4/\n",
            "  inflating: v0.3/raw/train/targets/4/boy (1).png  \n",
            "  inflating: v0.3/raw/train/targets/4/boy (10).png  \n",
            "  inflating: v0.3/raw/train/targets/4/boy (11).png  \n",
            "  inflating: v0.3/raw/train/targets/4/boy (12).png  \n",
            "  inflating: v0.3/raw/train/targets/4/boy (13).png  \n",
            "  inflating: v0.3/raw/train/targets/4/boy (14).png  \n",
            "  inflating: v0.3/raw/train/targets/4/boy (15).png  \n",
            "  inflating: v0.3/raw/train/targets/4/boy (16).png  \n",
            "  inflating: v0.3/raw/train/targets/4/boy (17).png  \n",
            "  inflating: v0.3/raw/train/targets/4/boy (18).png  \n",
            "  inflating: v0.3/raw/train/targets/4/boy (19).png  \n",
            "  inflating: v0.3/raw/train/targets/4/boy (2).png  \n",
            "  inflating: v0.3/raw/train/targets/4/boy (20).png  \n",
            "  inflating: v0.3/raw/train/targets/4/boy (21).png  \n",
            "  inflating: v0.3/raw/train/targets/4/boy (22).png  \n",
            "  inflating: v0.3/raw/train/targets/4/boy (23).png  \n",
            "  inflating: v0.3/raw/train/targets/4/boy (24).png  \n",
            "  inflating: v0.3/raw/train/targets/4/boy (25).png  \n",
            "  inflating: v0.3/raw/train/targets/4/boy (3).png  \n",
            "  inflating: v0.3/raw/train/targets/4/boy (4).png  \n",
            "  inflating: v0.3/raw/train/targets/4/boy (5).png  \n",
            "  inflating: v0.3/raw/train/targets/4/boy (6).png  \n",
            "  inflating: v0.3/raw/train/targets/4/boy (7).png  \n",
            "  inflating: v0.3/raw/train/targets/4/boy (8).png  \n",
            "  inflating: v0.3/raw/train/targets/4/boy (9).png  \n",
            "   creating: v0.3/raw/train/targets/5/\n",
            "  inflating: v0.3/raw/train/targets/5/boy (1).png  \n",
            "  inflating: v0.3/raw/train/targets/5/boy (10).png  \n",
            "  inflating: v0.3/raw/train/targets/5/boy (11).png  \n",
            "  inflating: v0.3/raw/train/targets/5/boy (12).png  \n",
            "  inflating: v0.3/raw/train/targets/5/boy (13).png  \n",
            "  inflating: v0.3/raw/train/targets/5/boy (14).png  \n",
            "  inflating: v0.3/raw/train/targets/5/boy (15).png  \n",
            "  inflating: v0.3/raw/train/targets/5/boy (16).png  \n",
            "  inflating: v0.3/raw/train/targets/5/boy (17).png  \n",
            "  inflating: v0.3/raw/train/targets/5/boy (18).png  \n",
            "  inflating: v0.3/raw/train/targets/5/boy (19).png  \n",
            "  inflating: v0.3/raw/train/targets/5/boy (2).png  \n",
            "  inflating: v0.3/raw/train/targets/5/boy (20).png  \n",
            "  inflating: v0.3/raw/train/targets/5/boy (21).png  \n",
            "  inflating: v0.3/raw/train/targets/5/boy (22).png  \n",
            "  inflating: v0.3/raw/train/targets/5/boy (23).png  \n",
            "  inflating: v0.3/raw/train/targets/5/boy (24).png  \n",
            "  inflating: v0.3/raw/train/targets/5/boy (25).png  \n",
            "  inflating: v0.3/raw/train/targets/5/boy (3).png  \n",
            "  inflating: v0.3/raw/train/targets/5/boy (4).png  \n",
            "  inflating: v0.3/raw/train/targets/5/boy (5).png  \n",
            "  inflating: v0.3/raw/train/targets/5/boy (6).png  \n",
            "  inflating: v0.3/raw/train/targets/5/boy (7).png  \n",
            "  inflating: v0.3/raw/train/targets/5/boy (8).png  \n",
            "  inflating: v0.3/raw/train/targets/5/boy (9).png  \n",
            "   creating: v0.3/raw/train/targets/6/\n",
            "  inflating: v0.3/raw/train/targets/6/girl (1).png  \n",
            "  inflating: v0.3/raw/train/targets/6/girl (10).png  \n",
            "  inflating: v0.3/raw/train/targets/6/girl (11).png  \n",
            "  inflating: v0.3/raw/train/targets/6/girl (12).png  \n",
            "  inflating: v0.3/raw/train/targets/6/girl (13).png  \n",
            "  inflating: v0.3/raw/train/targets/6/girl (14).png  \n",
            "  inflating: v0.3/raw/train/targets/6/girl (15).png  \n",
            "  inflating: v0.3/raw/train/targets/6/girl (16).png  \n",
            "  inflating: v0.3/raw/train/targets/6/girl (17).png  \n",
            "  inflating: v0.3/raw/train/targets/6/girl (18).png  \n",
            "  inflating: v0.3/raw/train/targets/6/girl (19).png  \n",
            "  inflating: v0.3/raw/train/targets/6/girl (2).png  \n",
            "  inflating: v0.3/raw/train/targets/6/girl (20).png  \n",
            "  inflating: v0.3/raw/train/targets/6/girl (21).png  \n",
            "  inflating: v0.3/raw/train/targets/6/girl (22).png  \n",
            "  inflating: v0.3/raw/train/targets/6/girl (23).png  \n",
            "  inflating: v0.3/raw/train/targets/6/girl (24).png  \n",
            "  inflating: v0.3/raw/train/targets/6/girl (3).png  \n",
            "  inflating: v0.3/raw/train/targets/6/girl (4).png  \n",
            "  inflating: v0.3/raw/train/targets/6/girl (5).png  \n",
            "  inflating: v0.3/raw/train/targets/6/girl (6).png  \n",
            "  inflating: v0.3/raw/train/targets/6/girl (7).png  \n",
            "  inflating: v0.3/raw/train/targets/6/girl (8).png  \n",
            "  inflating: v0.3/raw/train/targets/6/girl (9).png  \n",
            "  inflating: v0.3/raw/train/targets/6/girl.png  \n",
            "   creating: v0.3/raw/train/targets/7/\n",
            "  inflating: v0.3/raw/train/targets/7/girl (1).png  \n",
            "  inflating: v0.3/raw/train/targets/7/girl (10).png  \n",
            "  inflating: v0.3/raw/train/targets/7/girl (11).png  \n",
            "  inflating: v0.3/raw/train/targets/7/girl (12).png  \n",
            "  inflating: v0.3/raw/train/targets/7/girl (13).png  \n",
            "  inflating: v0.3/raw/train/targets/7/girl (14).png  \n",
            "  inflating: v0.3/raw/train/targets/7/girl (15).png  \n",
            "  inflating: v0.3/raw/train/targets/7/girl (16).png  \n",
            "  inflating: v0.3/raw/train/targets/7/girl (17).png  \n",
            "  inflating: v0.3/raw/train/targets/7/girl (18).png  \n",
            "  inflating: v0.3/raw/train/targets/7/girl (19).png  \n",
            "  inflating: v0.3/raw/train/targets/7/girl (2).png  \n",
            "  inflating: v0.3/raw/train/targets/7/girl (20).png  \n",
            "  inflating: v0.3/raw/train/targets/7/girl (21).png  \n",
            "  inflating: v0.3/raw/train/targets/7/girl (22).png  \n",
            "  inflating: v0.3/raw/train/targets/7/girl (23).png  \n",
            "  inflating: v0.3/raw/train/targets/7/girl (24).png  \n",
            "  inflating: v0.3/raw/train/targets/7/girl (3).png  \n",
            "  inflating: v0.3/raw/train/targets/7/girl (4).png  \n",
            "  inflating: v0.3/raw/train/targets/7/girl (5).png  \n",
            "  inflating: v0.3/raw/train/targets/7/girl (6).png  \n",
            "  inflating: v0.3/raw/train/targets/7/girl (7).png  \n",
            "  inflating: v0.3/raw/train/targets/7/girl (8).png  \n",
            "  inflating: v0.3/raw/train/targets/7/girl (9).png  \n",
            "  inflating: v0.3/raw/train/targets/7/girl.png  \n",
            "   creating: v0.3/raw/train/targets/8/\n",
            "  inflating: v0.3/raw/train/targets/8/boy (1).png  \n",
            "  inflating: v0.3/raw/train/targets/8/boy (10).png  \n",
            "  inflating: v0.3/raw/train/targets/8/boy (11).png  \n",
            "  inflating: v0.3/raw/train/targets/8/boy (12).png  \n",
            "  inflating: v0.3/raw/train/targets/8/boy (13).png  \n",
            "  inflating: v0.3/raw/train/targets/8/boy (14).png  \n",
            "  inflating: v0.3/raw/train/targets/8/boy (15).png  \n",
            "  inflating: v0.3/raw/train/targets/8/boy (16).png  \n",
            "  inflating: v0.3/raw/train/targets/8/boy (17).png  \n",
            "  inflating: v0.3/raw/train/targets/8/boy (18).png  \n",
            "  inflating: v0.3/raw/train/targets/8/boy (19).png  \n",
            "  inflating: v0.3/raw/train/targets/8/boy (2).png  \n",
            "  inflating: v0.3/raw/train/targets/8/boy (20).png  \n",
            "  inflating: v0.3/raw/train/targets/8/boy (21).png  \n",
            "  inflating: v0.3/raw/train/targets/8/boy (22).png  \n",
            "  inflating: v0.3/raw/train/targets/8/boy (23).png  \n",
            "  inflating: v0.3/raw/train/targets/8/boy (24).png  \n",
            "  inflating: v0.3/raw/train/targets/8/boy (25).png  \n",
            "  inflating: v0.3/raw/train/targets/8/boy (3).png  \n",
            "  inflating: v0.3/raw/train/targets/8/boy (4).png  \n",
            "  inflating: v0.3/raw/train/targets/8/boy (5).png  \n",
            "  inflating: v0.3/raw/train/targets/8/boy (6).png  \n",
            "  inflating: v0.3/raw/train/targets/8/boy (7).png  \n",
            "  inflating: v0.3/raw/train/targets/8/boy (8).png  \n",
            "  inflating: v0.3/raw/train/targets/8/boy (9).png  \n",
            "   creating: v0.3/raw/train/targets/9/\n",
            "  inflating: v0.3/raw/train/targets/9/man (1).png  \n",
            "  inflating: v0.3/raw/train/targets/9/man (10).png  \n",
            "  inflating: v0.3/raw/train/targets/9/man (11).png  \n",
            "  inflating: v0.3/raw/train/targets/9/man (12).png  \n",
            "  inflating: v0.3/raw/train/targets/9/man (13).png  \n",
            "  inflating: v0.3/raw/train/targets/9/man (14).png  \n",
            "  inflating: v0.3/raw/train/targets/9/man (15).png  \n",
            "  inflating: v0.3/raw/train/targets/9/man (16).png  \n",
            "  inflating: v0.3/raw/train/targets/9/man (17).png  \n",
            "  inflating: v0.3/raw/train/targets/9/man (18).png  \n",
            "  inflating: v0.3/raw/train/targets/9/man (19).png  \n",
            "  inflating: v0.3/raw/train/targets/9/man (2).png  \n",
            "  inflating: v0.3/raw/train/targets/9/man (20).png  \n",
            "  inflating: v0.3/raw/train/targets/9/man (21).png  \n",
            "  inflating: v0.3/raw/train/targets/9/man (22).png  \n",
            "  inflating: v0.3/raw/train/targets/9/man (23).png  \n",
            "  inflating: v0.3/raw/train/targets/9/man (24).png  \n",
            "  inflating: v0.3/raw/train/targets/9/man (25).png  \n",
            "  inflating: v0.3/raw/train/targets/9/man (3).png  \n",
            "  inflating: v0.3/raw/train/targets/9/man (4).png  \n",
            "  inflating: v0.3/raw/train/targets/9/man (5).png  \n",
            "  inflating: v0.3/raw/train/targets/9/man (6).png  \n",
            "  inflating: v0.3/raw/train/targets/9/man (7).png  \n",
            "  inflating: v0.3/raw/train/targets/9/man (8).png  \n",
            "  inflating: v0.3/raw/train/targets/9/man (9).png  \n"
          ]
        }
      ]
    },
    {
      "cell_type": "code",
      "source": [
        "!rm /content/coloring_dataset-v0.3.zip"
      ],
      "metadata": {
        "id": "iZAaXXoNl0DD"
      },
      "execution_count": null,
      "outputs": []
    },
    {
      "cell_type": "markdown",
      "source": [
        "## 🟠 EDA"
      ],
      "metadata": {
        "id": "B29jrEvwRqXA"
      }
    },
    {
      "cell_type": "code",
      "source": [
        "id = np.random.randint(0, 10, 1)[0]\n",
        "\n",
        "fig, axs = plt.subplots(5, 5, figsize=(10, 10))\n",
        "\n",
        "for i, ax in enumerate(axs.flat):\n",
        "    img = Image.open(os.path.join(train_path, f'targets/{str(id * 25 + i + 1).zfill(4)}.bmp'))\n",
        "    ax.imshow(img)\n",
        "    ax.axis('off')\n",
        "\n",
        "plt.tight_layout()\n",
        "plt.show()\n"
      ],
      "metadata": {
        "id": "yR8uQsv4E_aJ",
        "colab": {
          "base_uri": "https://localhost:8080/",
          "height": 54
        },
        "outputId": "5dc4a774-2aa5-4490-cf88-ee68e50af9d9"
      },
      "execution_count": null,
      "outputs": [
        {
          "output_type": "display_data",
          "data": {
            "text/plain": [
              "<Figure size 1000x1000 with 25 Axes>"
            ],
            "image/png": "[encoded data removed]"
          },
          "metadata": {}
        }
      ]
    },
    {
      "cell_type": "markdown",
      "source": [
        "## 🟠 Custom dataset"
      ],
      "metadata": {
        "id": "PgLgP04P4-aX"
      }
    },
    {
      "cell_type": "code",
      "source": [
        "class GANset(Dataset):\n",
        "  def __init__(self, data_path, data_ann, transforms):\n",
        "    self.data = pd.read_csv(data_ann)\n",
        "    self.data_path = data_path\n",
        "    self.transforms = transforms\n",
        "\n",
        "  def __getitem__(self, idx):\n",
        "    input = tv_tensors.Image(Image.open(os.path.join(self.data_path, \"inputs\", self.data.iloc[idx][\"input\"])))\n",
        "    target = tv_tensors.Image(Image.open(os.path.join(self.data_path, \"targets\", self.data.iloc[idx][\"target\"])))\n",
        "    hair = color2number[self.data.iloc[idx][\"hair\"]]\n",
        "    shirt = color2number[self.data.iloc[idx][\"shirt\"]]\n",
        "\n",
        "    if self.transforms:\n",
        "      input, target = self.transforms(input, target)\n",
        "\n",
        "    hair_color = torch.full_like(input[0], hair).unsqueeze(0)\n",
        "    shirt_color = torch.full_like(input[0], shirt).unsqueeze(0)\n",
        "\n",
        "    return input, target, hair_color, shirt_color\n",
        "\n",
        "  def __len__(self):\n",
        "    return len(self.data)\n"
      ],
      "metadata": {
        "id": "o0qUkL0CfQmr"
      },
      "execution_count": null,
      "outputs": []
    },
    {
      "cell_type": "code",
      "source": [
        "train_transform = v2.Compose([\n",
        "    v2.Resize(size=(256, 256), antialias=True),\n",
        "    v2.RandomHorizontalFlip(0.5),\n",
        "    v2.ToDtype(dtype=torch.float32, scale=True),\n",
        "    v2.Normalize(mean=(0.5,), std=(0.5,))\n",
        "])\n",
        "\n",
        "valid_transform = v2.Compose([\n",
        "    v2.Resize(size=(256, 256), antialias=True),\n",
        "    v2.ToDtype(dtype=torch.float32, scale=True),\n",
        "    v2.Normalize(mean=(0.5,), std=(0.5,))\n",
        "])"
      ],
      "metadata": {
        "id": "nbeKEdAl1Fb4"
      },
      "execution_count": null,
      "outputs": []
    },
    {
      "cell_type": "code",
      "source": [
        "trainset = GANset(train_path, train_ann, train_transform)\n",
        "validset = GANset(valid_path, valid_ann, valid_transform)\n",
        "\n",
        "trainset[24][0].shape, trainset[24][1].shape, trainset[24][2].shape, trainset[24][3].shape"
      ],
      "metadata": {
        "colab": {
          "base_uri": "https://localhost:8080/"
        },
        "id": "GeEuCYoNIgRh",
        "outputId": "d9a438a0-04b2-42f7-ad62-0f7df607f4a7"
      },
      "execution_count": null,
      "outputs": [
        {
          "output_type": "execute_result",
          "data": {
            "text/plain": [
              "(torch.Size([3, 256, 256]),\n",
              " torch.Size([3, 256, 256]),\n",
              " torch.Size([1, 256, 256]),\n",
              " torch.Size([1, 256, 256]))"
            ]
          },
          "metadata": {},
          "execution_count": 14
        }
      ]
    },
    {
      "cell_type": "code",
      "source": [
        "x = torch.randint(0, len(trainset), (1,))[0].item()\n",
        "image = torchvision.transforms.functional.to_pil_image(trainset[x][0])\n",
        "target = torchvision.transforms.functional.to_pil_image(trainset[x][1])"
      ],
      "metadata": {
        "id": "TDRsGCtB3ac9"
      },
      "execution_count": null,
      "outputs": []
    },
    {
      "cell_type": "code",
      "source": [
        "image"
      ],
      "metadata": {
        "colab": {
          "base_uri": "https://localhost:8080/",
          "height": 54
        },
        "id": "NS3xia4Y345V",
        "outputId": "8d119026-e58d-4130-98c2-3e22e42c3e94"
      },
      "execution_count": null,
      "outputs": [
        {
          "output_type": "execute_result",
          "data": {
            "text/plain": [
              "<PIL.Image.Image image mode=RGB size=256x256>"
            ],
            "image/png": "[encoded data removed]",
            "image/jpeg": "[encoded data removed]"
          },
          "metadata": {},
          "execution_count": 16
        }
      ]
    },
    {
      "cell_type": "code",
      "source": [
        "target"
      ],
      "metadata": {
        "colab": {
          "base_uri": "https://localhost:8080/",
          "height": 54
        },
        "id": "JO1pozuV36MK",
        "outputId": "dd592de2-d502-4a20-80a3-fb2c82719ea8"
      },
      "execution_count": null,
      "outputs": [
        {
          "output_type": "execute_result",
          "data": {
            "text/plain": [
              "<PIL.Image.Image image mode=RGB size=256x256>"
            ],
            "image/png": "[encoded data removed]",
            "image/jpeg": "[encoded data removed]"
          },
          "metadata": {},
          "execution_count": 17
        }
      ]
    },
    {
      "cell_type": "markdown",
      "source": [
        "## 🟠 Define a dataloader"
      ],
      "metadata": {
        "id": "NCQjacybOfqV"
      }
    },
    {
      "cell_type": "code",
      "source": [
        "trainloader = DataLoader(trainset, batch_size, shuffle=True)\n",
        "validloader = DataLoader(validset, batch_size, shuffle=False)"
      ],
      "metadata": {
        "id": "KMCJ3UMD0U_f"
      },
      "execution_count": null,
      "outputs": []
    },
    {
      "cell_type": "code",
      "source": [
        "data = next(iter(trainloader))\n",
        "data[0].shape, data[1].shape, data[2].shape, data[3].shape"
      ],
      "metadata": {
        "colab": {
          "base_uri": "https://localhost:8080/"
        },
        "id": "PWqh5dxc6Lhe",
        "outputId": "767e4cd0-7467-4d32-cdaa-a6acfb99562e"
      },
      "execution_count": null,
      "outputs": [
        {
          "output_type": "execute_result",
          "data": {
            "text/plain": [
              "(torch.Size([8, 3, 256, 256]),\n",
              " torch.Size([8, 3, 256, 256]),\n",
              " torch.Size([8, 1, 256, 256]),\n",
              " torch.Size([8, 1, 256, 256]))"
            ]
          },
          "metadata": {},
          "execution_count": 19
        }
      ]
    },
    {
      "cell_type": "markdown",
      "source": [
        "# 🔴 **Model**"
      ],
      "metadata": {
        "id": "3ttl0AK3Hvyh"
      }
    },
    {
      "cell_type": "code",
      "source": [
        "def cnn_block(in_channels, out_channels, kernel_size, stride=1,\n",
        "              padding=0, first_layer = False):\n",
        "\n",
        "   if first_layer:\n",
        "       return nn.Conv2d(in_channels, out_channels, kernel_size,\n",
        "                        stride=stride, padding=padding)\n",
        "\n",
        "   else:\n",
        "       return nn.Sequential(\n",
        "           nn.Conv2d(in_channels, out_channels, kernel_size,\n",
        "                     stride=stride,padding=padding),\n",
        "           nn.BatchNorm2d(out_channels, momentum=0.1, eps=1e-5),\n",
        "           )\n",
        "\n",
        "def tcnn_block(in_channels, out_channels, kernel_size, stride=1, padding=0,\n",
        "               output_padding=0, first_layer = False):\n",
        "\n",
        "   if first_layer:\n",
        "       return nn.ConvTranspose2d(in_channels, out_channels, kernel_size,\n",
        "                                 stride=stride, padding=padding,\n",
        "                                 output_padding=output_padding)\n",
        "\n",
        "   else:\n",
        "       return nn.Sequential(\n",
        "           nn.ConvTranspose2d(in_channels, out_channels, kernel_size,\n",
        "                              stride=stride, padding=padding,\n",
        "                              output_padding=output_padding),\n",
        "           nn.BatchNorm2d(out_channels,momentum=0.1,eps=1e-5),\n",
        "           )"
      ],
      "metadata": {
        "id": "2MgBVzorb9oQ"
      },
      "execution_count": null,
      "outputs": []
    },
    {
      "cell_type": "code",
      "source": [
        "class Generator(nn.Module):\n",
        " def __init__(self, instance_norm=False):\n",
        "   super(Generator,self).__init__()\n",
        "   self.e1 = cnn_block(in_dim, gf_dim, 4, 2, 1, first_layer = True)\n",
        "   self.e2 = cnn_block(gf_dim, gf_dim*2, 4, 2, 1,)\n",
        "   self.e3 = cnn_block(gf_dim*2,gf_dim*4, 4, 2, 1,)\n",
        "   self.e4 = cnn_block(gf_dim*4, gf_dim*8, 4, 2, 1,)\n",
        "   self.e5 = cnn_block(gf_dim*8, gf_dim*8, 4, 2, 1,)\n",
        "   self.e6 = cnn_block(gf_dim*8, gf_dim*8, 4, 2, 1,)\n",
        "   self.e7 = cnn_block(gf_dim*8, gf_dim*8, 4, 2, 1,)\n",
        "   self.e8 = cnn_block(gf_dim*8, gf_dim*8, 4, 2, 1, first_layer=True)\n",
        "\n",
        "   self.d1 = tcnn_block(gf_dim*8, gf_dim*8, 4, 2, 1)\n",
        "   self.d2 = tcnn_block(gf_dim*8*2, gf_dim*8, 4, 2, 1)\n",
        "   self.d3 = tcnn_block(gf_dim*8*2, gf_dim*8, 4, 2, 1)\n",
        "   self.d4 = tcnn_block(gf_dim*8*2, gf_dim*8, 4, 2, 1)\n",
        "   self.d5 = tcnn_block(gf_dim*8*2, gf_dim*4,4, 2, 1)\n",
        "   self.d6 = tcnn_block(gf_dim*4*2, gf_dim*2,4, 2, 1)\n",
        "   self.d7 = tcnn_block(gf_dim*2*2, gf_dim*1,4, 2, 1)\n",
        "   self.d8 = tcnn_block(gf_dim*1*2, out_dim,4, 2, 1, first_layer = True)#256x256\n",
        "   self.tanh = nn.Tanh()\n",
        "\n",
        " def forward(self, x):\n",
        "   e1 = self.e1(x)\n",
        "   e2 = self.e2(F.leaky_relu(e1,0.2))\n",
        "   e3 = self.e3(F.leaky_relu(e2,0.2))\n",
        "   e4 = self.e4(F.leaky_relu(e3,0.2))\n",
        "   e5 = self.e5(F.leaky_relu(e4,0.2))\n",
        "   e6 = self.e6(F.leaky_relu(e5,0.2))\n",
        "   e7 = self.e7(F.leaky_relu(e6,0.2))\n",
        "   e8 = self.e8(F.leaky_relu(e7,0.2))\n",
        "   d1 = torch.cat([F.dropout(self.d1(F.relu(e8)), 0.5, training=True), e7], 1)\n",
        "   d2 = torch.cat([F.dropout(self.d2(F.relu(d1)), 0.5, training=True), e6], 1)\n",
        "   d3 = torch.cat([F.dropout(self.d3(F.relu(d2)), 0.5, training=True), e5], 1)\n",
        "   d4 = torch.cat([self.d4(F.relu(d3)), e4], 1)\n",
        "   d5 = torch.cat([self.d5(F.relu(d4)), e3], 1)\n",
        "   d6 = torch.cat([self.d6(F.relu(d5)), e2], 1)\n",
        "   d7 = torch.cat([self.d7(F.relu(d6)), e1], 1)\n",
        "   d8 = self.d8(F.relu(d7))\n",
        "\n",
        "   return self.tanh(d8)"
      ],
      "metadata": {
        "id": "3Eyy93maEE9u"
      },
      "execution_count": null,
      "outputs": []
    },
    {
      "cell_type": "code",
      "source": [
        "class Discriminator(nn.Module):\n",
        " def __init__(self, instance_norm=False):#input : 256x256\n",
        "   super(Discriminator,self).__init__()\n",
        "   self.conv1 = cnn_block(in_dim*2, df_dim, 4, 2, 1, first_layer=True) # 128x128\n",
        "   self.conv2 = cnn_block(df_dim, df_dim*2, 4, 2, 1)                  # 64x64\n",
        "   self.conv3 = cnn_block(df_dim*2, df_dim*4, 4, 2, 1)                # 32x32\n",
        "   self.conv4 = cnn_block(df_dim*4, df_dim*8, 4, 1, 1)                # 31x31\n",
        "   self.conv5 = cnn_block(df_dim*8, 1, 4, 1, 1, first_layer=True)     # 30x30\n",
        "\n",
        "   self.sigmoid = nn.Sigmoid()\n",
        " def forward(self, x, y):\n",
        "   O = torch.cat([x, y], dim=1)\n",
        "   O = F.leaky_relu(self.conv1(O),0.2)\n",
        "   O = F.leaky_relu(self.conv2(O),0.2)\n",
        "   O = F.leaky_relu(self.conv3(O),0.2)\n",
        "   O = F.leaky_relu(self.conv4(O),0.2)\n",
        "   O = self.conv5(O)\n",
        "\n",
        "   return self.sigmoid(O)"
      ],
      "metadata": {
        "id": "0v_9Pt_vFq91"
      },
      "execution_count": null,
      "outputs": []
    },
    {
      "cell_type": "code",
      "source": [
        "G = Generator().to(device)\n",
        "D = Discriminator().to(device)"
      ],
      "metadata": {
        "id": "cSvkR7q0FB_L"
      },
      "execution_count": null,
      "outputs": []
    },
    {
      "cell_type": "markdown",
      "source": [
        "# 🔴 **Config**"
      ],
      "metadata": {
        "id": "24qT-sgUO2-d"
      }
    },
    {
      "cell_type": "code",
      "source": [
        "G_optimizer = optim.Adam(G.parameters(), lr=2e-4, betas=(0.5, 0.999))\n",
        "D_optimizer = optim.Adam(D.parameters(), lr=2e-4, betas=(0.5, 0.999))\n",
        "\n",
        "bce_loss = nn.BCELoss()\n",
        "L1_loss = nn.L1Loss()"
      ],
      "metadata": {
        "id": "5znK6USrlVd5"
      },
      "execution_count": null,
      "outputs": []
    },
    {
      "cell_type": "markdown",
      "source": [
        "# 🔴 **Train ➰**"
      ],
      "metadata": {
        "id": "W0QNbC0YPCKZ"
      }
    },
    {
      "cell_type": "code",
      "source": [
        "def train_one_epoch(generator, discriminator, train_loader, G_optimizer, D_optimizer, epoch=None):\n",
        "  G.train()\n",
        "  D.train()\n",
        "  G_loss_train = AverageMeter()\n",
        "  D_loss_train = AverageMeter()\n",
        "\n",
        "  with tqdm.tqdm(train_loader, unit='batch') as tepoch:\n",
        "    for inputs, targets, hair, shirt in tepoch:\n",
        "      if epoch:\n",
        "        tepoch.set_description(f'Epoch {epoch}')\n",
        "\n",
        "      inputs = inputs.to(device)\n",
        "      targets = targets.to(device)\n",
        "      hair = hair.to(device)\n",
        "      shirt = shirt.to(device)\n",
        "\n",
        "      #Train discriminator\n",
        "      discriminator.zero_grad()\n",
        "\n",
        "      inputs = torch.cat([hair, shirt, inputs], 1)\n",
        "\n",
        "      outputs = generator(inputs)\n",
        "\n",
        "      new_outputs = torch.cat([hair, shirt, outputs], 1)\n",
        "      new_targets = torch.cat([hair, shirt, targets], 1)\n",
        "\n",
        "      generated_labels = discriminator(new_outputs, inputs)\n",
        "      true_labels = discriminator(new_targets, inputs)\n",
        "\n",
        "      real_classes = torch.ones(len(true_labels), 1, 30, 30).to(device)\n",
        "      fake_classes = torch.zeros(len(true_labels), 1, 30, 30).to(device)\n",
        "\n",
        "      real_gan_loss = bce_loss(true_labels, real_classes)\n",
        "      fake_gan_loss = bce_loss(generated_labels, fake_classes)\n",
        "\n",
        "      D_loss = real_gan_loss + fake_gan_loss\n",
        "      D_loss.backward()\n",
        "      D_optimizer.step()\n",
        "\n",
        "      D_loss_train.update(D_loss.item(), n=len(targets))\n",
        "\n",
        "      #Train generator\n",
        "      generator.zero_grad()\n",
        "\n",
        "      outputs = generator(inputs)\n",
        "\n",
        "      new_outputs = torch.cat([hair, shirt, outputs], 1)\n",
        "\n",
        "      generated_labels = discriminator(new_outputs, inputs)\n",
        "      g_label_loss = bce_loss(generated_labels, real_classes)\n",
        "\n",
        "      l1loss = L1_loss(targets, outputs)\n",
        "\n",
        "      G_loss = g_label_loss + L1_lambda*l1loss\n",
        "      G_loss.backward()\n",
        "      G_optimizer.step()\n",
        "\n",
        "      G_loss_train.update(G_loss.item(), n=len(targets))\n",
        "\n",
        "\n",
        "  return D, G, D_loss_train.avg, G_loss_train.avg"
      ],
      "metadata": {
        "id": "WniOAgk0QyRI"
      },
      "execution_count": null,
      "outputs": []
    },
    {
      "cell_type": "markdown",
      "source": [
        "# 🔴 **Evaluation**"
      ],
      "metadata": {
        "id": "G9HgVWslPGsH"
      }
    },
    {
      "cell_type": "code",
      "source": [
        "def evaluate(test_loader, generator, discriminator):\n",
        "  G.eval()\n",
        "  D.eval()\n",
        "  G_loss_eval = AverageMeter()\n",
        "  D_loss_eval = AverageMeter()\n",
        "\n",
        "  with torch.inference_mode():\n",
        "    for inputs, targets, hair, shirt in test_loader:\n",
        "\n",
        "      inputs = inputs.to(device)\n",
        "      targets = targets.to(device)\n",
        "      hair = hair.to(device)\n",
        "      shirt = shirt.to(device)\n",
        "\n",
        "      #discriminator eval\n",
        "      inputs = torch.cat([hair, shirt, inputs], 1)\n",
        "\n",
        "      outputs = generator(inputs)\n",
        "\n",
        "      new_outputs = torch.cat([hair, shirt, outputs], 1)\n",
        "      new_targets = torch.cat([hair, shirt, targets], 1)\n",
        "\n",
        "      generated_labels = discriminator(new_outputs, inputs)\n",
        "      true_labels = discriminator(new_targets, inputs)\n",
        "\n",
        "      real_classes = torch.ones(len(true_labels), 1, 30, 30).to(device)\n",
        "      fake_classes = torch.zeros(len(true_labels), 1, 30, 30).to(device)\n",
        "\n",
        "      real_gan_loss = bce_loss(true_labels, real_classes)\n",
        "      fake_gan_loss = bce_loss(generated_labels, fake_classes)\n",
        "\n",
        "      D_loss = real_gan_loss + fake_gan_loss\n",
        "      D_loss_eval.update(D_loss.item(), n=len(targets))\n",
        "\n",
        "      #generator eval\n",
        "      g_label_loss = bce_loss(generated_labels, real_classes)\n",
        "\n",
        "      l1loss = L1_loss(targets, outputs)\n",
        "\n",
        "      G_loss = g_label_loss + L1_lambda*l1loss\n",
        "      G_loss_eval.update(G_loss.item(), n=len(targets))\n",
        "\n",
        "  return D_loss_eval.avg, G_loss_eval.avg"
      ],
      "metadata": {
        "id": "uV0_67_ZQ0xf"
      },
      "execution_count": null,
      "outputs": []
    },
    {
      "cell_type": "markdown",
      "source": [
        "# 🔴 **Training Process 〽️**"
      ],
      "metadata": {
        "id": "o_5f69nwPtY2"
      }
    },
    {
      "cell_type": "markdown",
      "source": [
        "## 🟠 Main Loop"
      ],
      "metadata": {
        "id": "rjGQ-M02cusP"
      }
    },
    {
      "cell_type": "code",
      "source": [
        "torch.cuda.empty_cache()"
      ],
      "metadata": {
        "id": "jsWyc30h3mef"
      },
      "execution_count": null,
      "outputs": []
    },
    {
      "cell_type": "markdown",
      "source": [
        "🔰 Define train dataloader."
      ],
      "metadata": {
        "id": "BGRWkn5wm9oP"
      }
    },
    {
      "cell_type": "code",
      "source": [
        "set_seed(seed)\n",
        "train_loader = DataLoader(trainset, batch_size, shuffle=True)\n",
        "valid_loader = DataLoader(validset, batch_size, shuffle=False)"
      ],
      "metadata": {
        "id": "uF3H9DeD6TCn"
      },
      "execution_count": null,
      "outputs": []
    },
    {
      "cell_type": "markdown",
      "source": [
        "🔰 Define model."
      ],
      "metadata": {
        "id": "4AdYaMU4x34g"
      }
    },
    {
      "cell_type": "code",
      "source": [
        "set_seed(seed)\n",
        "G = Generator().to(device)\n",
        "D = Discriminator().to(device)"
      ],
      "metadata": {
        "id": "JCtZXDybxexf"
      },
      "execution_count": null,
      "outputs": []
    },
    {
      "cell_type": "markdown",
      "source": [
        "🔰 Define optimizer and Set learning rate and weight decay."
      ],
      "metadata": {
        "id": "AUKZRiQPxqrB"
      }
    },
    {
      "cell_type": "code",
      "source": [
        "set_seed(seed)\n",
        "G_optimizer = optim.Adam(G.parameters(), lr=2e-4, betas=(0.5, 0.999))\n",
        "D_optimizer = optim.Adam(D.parameters(), lr=2e-4, betas=(0.5, 0.999))"
      ],
      "metadata": {
        "id": "bowjVB5yIXUP"
      },
      "execution_count": null,
      "outputs": []
    },
    {
      "cell_type": "markdown",
      "source": [
        "🔰 Write code to train the model for `num_epochs` epoches."
      ],
      "metadata": {
        "id": "AUyFFIzlyaiB"
      }
    },
    {
      "cell_type": "code",
      "source": [
        "G_loss_train_hist = []\n",
        "G_loss_valid_hist = []\n",
        "\n",
        "D_loss_train_hist = []\n",
        "D_loss_valid_hist = []\n",
        "\n",
        "best_G_loss_valid = torch.inf\n",
        "epoch_counter = 0"
      ],
      "metadata": {
        "id": "CAXagB4yvtZd"
      },
      "execution_count": null,
      "outputs": []
    },
    {
      "cell_type": "code",
      "source": [
        "num_epochs = epochs\n",
        "\n",
        "for epoch in range(num_epochs):\n",
        "  # Train\n",
        "  D, G, D_loss_train, G_loss_train = train_one_epoch(G, D, train_loader, G_optimizer, D_optimizer, epoch)\n",
        "\n",
        "  # Validation\n",
        "  D_loss_valid, G_loss_valid = evaluate(valid_loader, G, D)\n",
        "\n",
        "  D_loss_train_hist.append(D_loss_train)\n",
        "  D_loss_valid_hist.append(D_loss_valid)\n",
        "\n",
        "  G_loss_train_hist.append(G_loss_train)\n",
        "  G_loss_valid_hist.append(G_loss_valid)\n",
        "\n",
        "  if G_loss_valid < best_G_loss_valid:\n",
        "    torch.save(G, f'G_model.pt')\n",
        "    torch.save(D, f'D_model.pt')\n",
        "    best_G_loss_valid = G_loss_valid\n",
        "    print('Model Saved!')\n",
        "\n",
        "  print(f'Valid: Generator Loss = {G_loss_valid:.4}, Discriminator Loss = {D_loss_valid:.4}')\n",
        "  print()\n",
        "\n",
        "  epoch_counter += 1"
      ],
      "metadata": {
        "id": "PovABWnU3ld0",
        "colab": {
          "base_uri": "https://localhost:8080/"
        },
        "outputId": "b45c1630-d2fb-41c1-c2d2-0eaec30ded42"
      },
      "execution_count": null,
      "outputs": [
        {
          "output_type": "stream",
          "name": "stderr",
          "text": [
            "100%|██████████| 32/32 [00:18<00:00,  1.74batch/s]\n"
          ]
        },
        {
          "output_type": "stream",
          "name": "stdout",
          "text": [
            "Model Saved!\n",
            "Valid: Generator Loss = 22.36, Discriminator Loss = 2.17\n",
            "\n"
          ]
        },
        {
          "output_type": "stream",
          "name": "stderr",
          "text": [
            "Epoch 1: 100%|██████████| 32/32 [00:18<00:00,  1.72batch/s]\n"
          ]
        },
        {
          "output_type": "stream",
          "name": "stdout",
          "text": [
            "Model Saved!\n",
            "Valid: Generator Loss = 15.45, Discriminator Loss = 1.562\n",
            "\n"
          ]
        },
        {
          "output_type": "stream",
          "name": "stderr",
          "text": [
            "Epoch 2: 100%|██████████| 32/32 [00:18<00:00,  1.72batch/s]\n"
          ]
        },
        {
          "output_type": "stream",
          "name": "stdout",
          "text": [
            "Model Saved!\n",
            "Valid: Generator Loss = 13.96, Discriminator Loss = 1.749\n",
            "\n"
          ]
        },
        {
          "output_type": "stream",
          "name": "stderr",
          "text": [
            "Epoch 3: 100%|██████████| 32/32 [00:18<00:00,  1.76batch/s]\n"
          ]
        },
        {
          "output_type": "stream",
          "name": "stdout",
          "text": [
            "Model Saved!\n",
            "Valid: Generator Loss = 12.41, Discriminator Loss = 1.647\n",
            "\n"
          ]
        },
        {
          "output_type": "stream",
          "name": "stderr",
          "text": [
            "Epoch 4: 100%|██████████| 32/32 [00:18<00:00,  1.75batch/s]\n"
          ]
        },
        {
          "output_type": "stream",
          "name": "stdout",
          "text": [
            "Valid: Generator Loss = 17.26, Discriminator Loss = 2.996\n",
            "\n"
          ]
        },
        {
          "output_type": "stream",
          "name": "stderr",
          "text": [
            "Epoch 5: 100%|██████████| 32/32 [00:18<00:00,  1.74batch/s]\n"
          ]
        },
        {
          "output_type": "stream",
          "name": "stdout",
          "text": [
            "Valid: Generator Loss = 12.57, Discriminator Loss = 2.463\n",
            "\n"
          ]
        },
        {
          "output_type": "stream",
          "name": "stderr",
          "text": [
            "Epoch 6: 100%|██████████| 32/32 [00:18<00:00,  1.75batch/s]\n"
          ]
        },
        {
          "output_type": "stream",
          "name": "stdout",
          "text": [
            "Valid: Generator Loss = 17.62, Discriminator Loss = 1.676\n",
            "\n"
          ]
        },
        {
          "output_type": "stream",
          "name": "stderr",
          "text": [
            "Epoch 7: 100%|██████████| 32/32 [00:18<00:00,  1.73batch/s]\n"
          ]
        },
        {
          "output_type": "stream",
          "name": "stdout",
          "text": [
            "Model Saved!\n",
            "Valid: Generator Loss = 10.66, Discriminator Loss = 1.541\n",
            "\n"
          ]
        },
        {
          "output_type": "stream",
          "name": "stderr",
          "text": [
            "Epoch 8: 100%|██████████| 32/32 [00:18<00:00,  1.75batch/s]\n"
          ]
        },
        {
          "output_type": "stream",
          "name": "stdout",
          "text": [
            "Model Saved!\n",
            "Valid: Generator Loss = 9.162, Discriminator Loss = 1.388\n",
            "\n"
          ]
        },
        {
          "output_type": "stream",
          "name": "stderr",
          "text": [
            "Epoch 9: 100%|██████████| 32/32 [00:18<00:00,  1.72batch/s]\n"
          ]
        },
        {
          "output_type": "stream",
          "name": "stdout",
          "text": [
            "Valid: Generator Loss = 9.68, Discriminator Loss = 1.757\n",
            "\n"
          ]
        },
        {
          "output_type": "stream",
          "name": "stderr",
          "text": [
            "Epoch 10: 100%|██████████| 32/32 [00:18<00:00,  1.74batch/s]\n"
          ]
        },
        {
          "output_type": "stream",
          "name": "stdout",
          "text": [
            "Valid: Generator Loss = 12.28, Discriminator Loss = 1.513\n",
            "\n"
          ]
        },
        {
          "output_type": "stream",
          "name": "stderr",
          "text": [
            "Epoch 11: 100%|██████████| 32/32 [00:18<00:00,  1.74batch/s]\n"
          ]
        },
        {
          "output_type": "stream",
          "name": "stdout",
          "text": [
            "Valid: Generator Loss = 15.61, Discriminator Loss = 1.589\n",
            "\n"
          ]
        },
        {
          "output_type": "stream",
          "name": "stderr",
          "text": [
            "Epoch 12: 100%|██████████| 32/32 [00:18<00:00,  1.75batch/s]\n"
          ]
        },
        {
          "output_type": "stream",
          "name": "stdout",
          "text": [
            "Valid: Generator Loss = 9.763, Discriminator Loss = 1.562\n",
            "\n"
          ]
        },
        {
          "output_type": "stream",
          "name": "stderr",
          "text": [
            "Epoch 13: 100%|██████████| 32/32 [00:18<00:00,  1.75batch/s]\n"
          ]
        },
        {
          "output_type": "stream",
          "name": "stdout",
          "text": [
            "Model Saved!\n",
            "Valid: Generator Loss = 8.507, Discriminator Loss = 1.458\n",
            "\n"
          ]
        },
        {
          "output_type": "stream",
          "name": "stderr",
          "text": [
            "Epoch 14: 100%|██████████| 32/32 [00:18<00:00,  1.73batch/s]\n"
          ]
        },
        {
          "output_type": "stream",
          "name": "stdout",
          "text": [
            "Valid: Generator Loss = 9.585, Discriminator Loss = 1.489\n",
            "\n"
          ]
        },
        {
          "output_type": "stream",
          "name": "stderr",
          "text": [
            "Epoch 15: 100%|██████████| 32/32 [00:18<00:00,  1.75batch/s]\n"
          ]
        },
        {
          "output_type": "stream",
          "name": "stdout",
          "text": [
            "Valid: Generator Loss = 9.25, Discriminator Loss = 1.578\n",
            "\n"
          ]
        },
        {
          "output_type": "stream",
          "name": "stderr",
          "text": [
            "Epoch 16: 100%|██████████| 32/32 [00:18<00:00,  1.73batch/s]\n"
          ]
        },
        {
          "output_type": "stream",
          "name": "stdout",
          "text": [
            "Valid: Generator Loss = 10.77, Discriminator Loss = 1.433\n",
            "\n"
          ]
        },
        {
          "output_type": "stream",
          "name": "stderr",
          "text": [
            "Epoch 17: 100%|██████████| 32/32 [00:18<00:00,  1.75batch/s]\n"
          ]
        },
        {
          "output_type": "stream",
          "name": "stdout",
          "text": [
            "Model Saved!\n",
            "Valid: Generator Loss = 7.812, Discriminator Loss = 1.674\n",
            "\n"
          ]
        },
        {
          "output_type": "stream",
          "name": "stderr",
          "text": [
            "Epoch 18: 100%|██████████| 32/32 [00:18<00:00,  1.72batch/s]\n"
          ]
        },
        {
          "output_type": "stream",
          "name": "stdout",
          "text": [
            "Valid: Generator Loss = 8.606, Discriminator Loss = 1.519\n",
            "\n"
          ]
        },
        {
          "output_type": "stream",
          "name": "stderr",
          "text": [
            "Epoch 19: 100%|██████████| 32/32 [00:18<00:00,  1.75batch/s]\n"
          ]
        },
        {
          "output_type": "stream",
          "name": "stdout",
          "text": [
            "Valid: Generator Loss = 9.052, Discriminator Loss = 1.437\n",
            "\n"
          ]
        },
        {
          "output_type": "stream",
          "name": "stderr",
          "text": [
            "Epoch 20: 100%|██████████| 32/32 [00:18<00:00,  1.75batch/s]\n"
          ]
        },
        {
          "output_type": "stream",
          "name": "stdout",
          "text": [
            "Model Saved!\n",
            "Valid: Generator Loss = 7.344, Discriminator Loss = 1.497\n",
            "\n"
          ]
        },
        {
          "output_type": "stream",
          "name": "stderr",
          "text": [
            "Epoch 21: 100%|██████████| 32/32 [00:18<00:00,  1.73batch/s]\n"
          ]
        },
        {
          "output_type": "stream",
          "name": "stdout",
          "text": [
            "Valid: Generator Loss = 10.75, Discriminator Loss = 1.714\n",
            "\n"
          ]
        },
        {
          "output_type": "stream",
          "name": "stderr",
          "text": [
            "Epoch 22: 100%|██████████| 32/32 [00:18<00:00,  1.75batch/s]\n"
          ]
        },
        {
          "output_type": "stream",
          "name": "stdout",
          "text": [
            "Valid: Generator Loss = 9.77, Discriminator Loss = 1.59\n",
            "\n"
          ]
        },
        {
          "output_type": "stream",
          "name": "stderr",
          "text": [
            "Epoch 23: 100%|██████████| 32/32 [00:18<00:00,  1.73batch/s]\n"
          ]
        },
        {
          "output_type": "stream",
          "name": "stdout",
          "text": [
            "Valid: Generator Loss = 9.05, Discriminator Loss = 1.671\n",
            "\n"
          ]
        },
        {
          "output_type": "stream",
          "name": "stderr",
          "text": [
            "Epoch 24: 100%|██████████| 32/32 [00:18<00:00,  1.75batch/s]\n"
          ]
        },
        {
          "output_type": "stream",
          "name": "stdout",
          "text": [
            "Valid: Generator Loss = 8.008, Discriminator Loss = 1.743\n",
            "\n"
          ]
        },
        {
          "output_type": "stream",
          "name": "stderr",
          "text": [
            "Epoch 25: 100%|██████████| 32/32 [00:18<00:00,  1.73batch/s]\n"
          ]
        },
        {
          "output_type": "stream",
          "name": "stdout",
          "text": [
            "Valid: Generator Loss = 8.175, Discriminator Loss = 1.58\n",
            "\n"
          ]
        },
        {
          "output_type": "stream",
          "name": "stderr",
          "text": [
            "Epoch 26: 100%|██████████| 32/32 [00:18<00:00,  1.75batch/s]\n"
          ]
        },
        {
          "output_type": "stream",
          "name": "stdout",
          "text": [
            "Valid: Generator Loss = 8.604, Discriminator Loss = 2.922\n",
            "\n"
          ]
        },
        {
          "output_type": "stream",
          "name": "stderr",
          "text": [
            "Epoch 27: 100%|██████████| 32/32 [00:18<00:00,  1.74batch/s]\n"
          ]
        },
        {
          "output_type": "stream",
          "name": "stdout",
          "text": [
            "Model Saved!\n",
            "Valid: Generator Loss = 7.141, Discriminator Loss = 1.571\n",
            "\n"
          ]
        },
        {
          "output_type": "stream",
          "name": "stderr",
          "text": [
            "Epoch 28: 100%|██████████| 32/32 [00:18<00:00,  1.74batch/s]\n"
          ]
        },
        {
          "output_type": "stream",
          "name": "stdout",
          "text": [
            "Valid: Generator Loss = 7.759, Discriminator Loss = 1.45\n",
            "\n"
          ]
        },
        {
          "output_type": "stream",
          "name": "stderr",
          "text": [
            "Epoch 29: 100%|██████████| 32/32 [00:18<00:00,  1.75batch/s]\n"
          ]
        },
        {
          "output_type": "stream",
          "name": "stdout",
          "text": [
            "Model Saved!\n",
            "Valid: Generator Loss = 6.276, Discriminator Loss = 1.453\n",
            "\n"
          ]
        },
        {
          "output_type": "stream",
          "name": "stderr",
          "text": [
            "Epoch 30: 100%|██████████| 32/32 [00:18<00:00,  1.72batch/s]\n"
          ]
        },
        {
          "output_type": "stream",
          "name": "stdout",
          "text": [
            "Valid: Generator Loss = 7.495, Discriminator Loss = 1.361\n",
            "\n"
          ]
        },
        {
          "output_type": "stream",
          "name": "stderr",
          "text": [
            "Epoch 31: 100%|██████████| 32/32 [00:18<00:00,  1.75batch/s]\n"
          ]
        },
        {
          "output_type": "stream",
          "name": "stdout",
          "text": [
            "Valid: Generator Loss = 6.669, Discriminator Loss = 1.68\n",
            "\n"
          ]
        },
        {
          "output_type": "stream",
          "name": "stderr",
          "text": [
            "Epoch 32: 100%|██████████| 32/32 [00:18<00:00,  1.73batch/s]\n"
          ]
        },
        {
          "output_type": "stream",
          "name": "stdout",
          "text": [
            "Valid: Generator Loss = 7.594, Discriminator Loss = 1.619\n",
            "\n"
          ]
        },
        {
          "output_type": "stream",
          "name": "stderr",
          "text": [
            "Epoch 33: 100%|██████████| 32/32 [00:18<00:00,  1.76batch/s]\n"
          ]
        },
        {
          "output_type": "stream",
          "name": "stdout",
          "text": [
            "Valid: Generator Loss = 7.291, Discriminator Loss = 1.572\n",
            "\n"
          ]
        },
        {
          "output_type": "stream",
          "name": "stderr",
          "text": [
            "Epoch 34: 100%|██████████| 32/32 [00:18<00:00,  1.74batch/s]\n"
          ]
        },
        {
          "output_type": "stream",
          "name": "stdout",
          "text": [
            "Valid: Generator Loss = 10.09, Discriminator Loss = 1.746\n",
            "\n"
          ]
        },
        {
          "output_type": "stream",
          "name": "stderr",
          "text": [
            "Epoch 35: 100%|██████████| 32/32 [00:18<00:00,  1.75batch/s]\n"
          ]
        },
        {
          "output_type": "stream",
          "name": "stdout",
          "text": [
            "Valid: Generator Loss = 6.835, Discriminator Loss = 1.59\n",
            "\n"
          ]
        },
        {
          "output_type": "stream",
          "name": "stderr",
          "text": [
            "Epoch 36: 100%|██████████| 32/32 [00:18<00:00,  1.75batch/s]\n"
          ]
        },
        {
          "output_type": "stream",
          "name": "stdout",
          "text": [
            "Valid: Generator Loss = 7.848, Discriminator Loss = 2.134\n",
            "\n"
          ]
        },
        {
          "output_type": "stream",
          "name": "stderr",
          "text": [
            "Epoch 37: 100%|██████████| 32/32 [00:18<00:00,  1.73batch/s]\n"
          ]
        },
        {
          "output_type": "stream",
          "name": "stdout",
          "text": [
            "Valid: Generator Loss = 7.751, Discriminator Loss = 1.882\n",
            "\n"
          ]
        },
        {
          "output_type": "stream",
          "name": "stderr",
          "text": [
            "Epoch 38: 100%|██████████| 32/32 [00:18<00:00,  1.75batch/s]\n"
          ]
        },
        {
          "output_type": "stream",
          "name": "stdout",
          "text": [
            "Model Saved!\n",
            "Valid: Generator Loss = 6.248, Discriminator Loss = 1.413\n",
            "\n"
          ]
        },
        {
          "output_type": "stream",
          "name": "stderr",
          "text": [
            "Epoch 39: 100%|██████████| 32/32 [00:18<00:00,  1.73batch/s]\n"
          ]
        },
        {
          "output_type": "stream",
          "name": "stdout",
          "text": [
            "Valid: Generator Loss = 6.271, Discriminator Loss = 1.385\n",
            "\n"
          ]
        },
        {
          "output_type": "stream",
          "name": "stderr",
          "text": [
            "Epoch 40: 100%|██████████| 32/32 [00:18<00:00,  1.75batch/s]\n"
          ]
        },
        {
          "output_type": "stream",
          "name": "stdout",
          "text": [
            "Model Saved!\n",
            "Valid: Generator Loss = 5.606, Discriminator Loss = 1.385\n",
            "\n"
          ]
        },
        {
          "output_type": "stream",
          "name": "stderr",
          "text": [
            "Epoch 41: 100%|██████████| 32/32 [00:18<00:00,  1.73batch/s]\n"
          ]
        },
        {
          "output_type": "stream",
          "name": "stdout",
          "text": [
            "Model Saved!\n",
            "Valid: Generator Loss = 5.399, Discriminator Loss = 1.397\n",
            "\n"
          ]
        },
        {
          "output_type": "stream",
          "name": "stderr",
          "text": [
            "Epoch 42: 100%|██████████| 32/32 [00:18<00:00,  1.75batch/s]\n"
          ]
        },
        {
          "output_type": "stream",
          "name": "stdout",
          "text": [
            "Model Saved!\n",
            "Valid: Generator Loss = 5.394, Discriminator Loss = 1.389\n",
            "\n"
          ]
        },
        {
          "output_type": "stream",
          "name": "stderr",
          "text": [
            "Epoch 43: 100%|██████████| 32/32 [00:18<00:00,  1.75batch/s]\n"
          ]
        },
        {
          "output_type": "stream",
          "name": "stdout",
          "text": [
            "Valid: Generator Loss = 6.483, Discriminator Loss = 1.394\n",
            "\n"
          ]
        },
        {
          "output_type": "stream",
          "name": "stderr",
          "text": [
            "Epoch 44: 100%|██████████| 32/32 [00:18<00:00,  1.73batch/s]\n"
          ]
        },
        {
          "output_type": "stream",
          "name": "stdout",
          "text": [
            "Model Saved!\n",
            "Valid: Generator Loss = 5.357, Discriminator Loss = 1.395\n",
            "\n"
          ]
        },
        {
          "output_type": "stream",
          "name": "stderr",
          "text": [
            "Epoch 45: 100%|██████████| 32/32 [00:18<00:00,  1.75batch/s]\n"
          ]
        },
        {
          "output_type": "stream",
          "name": "stdout",
          "text": [
            "Valid: Generator Loss = 5.834, Discriminator Loss = 1.384\n",
            "\n"
          ]
        },
        {
          "output_type": "stream",
          "name": "stderr",
          "text": [
            "Epoch 46: 100%|██████████| 32/32 [00:18<00:00,  1.73batch/s]\n"
          ]
        },
        {
          "output_type": "stream",
          "name": "stdout",
          "text": [
            "Valid: Generator Loss = 6.773, Discriminator Loss = 1.394\n",
            "\n"
          ]
        },
        {
          "output_type": "stream",
          "name": "stderr",
          "text": [
            "Epoch 47: 100%|██████████| 32/32 [00:18<00:00,  1.75batch/s]\n"
          ]
        },
        {
          "output_type": "stream",
          "name": "stdout",
          "text": [
            "Valid: Generator Loss = 6.789, Discriminator Loss = 1.384\n",
            "\n"
          ]
        },
        {
          "output_type": "stream",
          "name": "stderr",
          "text": [
            "Epoch 48: 100%|██████████| 32/32 [00:18<00:00,  1.73batch/s]\n"
          ]
        },
        {
          "output_type": "stream",
          "name": "stdout",
          "text": [
            "Valid: Generator Loss = 7.368, Discriminator Loss = 1.391\n",
            "\n"
          ]
        },
        {
          "output_type": "stream",
          "name": "stderr",
          "text": [
            "Epoch 49: 100%|██████████| 32/32 [00:18<00:00,  1.75batch/s]\n"
          ]
        },
        {
          "output_type": "stream",
          "name": "stdout",
          "text": [
            "Valid: Generator Loss = 5.487, Discriminator Loss = 1.351\n",
            "\n"
          ]
        },
        {
          "output_type": "stream",
          "name": "stderr",
          "text": [
            "Epoch 50: 100%|██████████| 32/32 [00:18<00:00,  1.75batch/s]\n"
          ]
        },
        {
          "output_type": "stream",
          "name": "stdout",
          "text": [
            "Model Saved!\n",
            "Valid: Generator Loss = 5.277, Discriminator Loss = 1.424\n",
            "\n"
          ]
        },
        {
          "output_type": "stream",
          "name": "stderr",
          "text": [
            "Epoch 51: 100%|██████████| 32/32 [00:18<00:00,  1.73batch/s]\n"
          ]
        },
        {
          "output_type": "stream",
          "name": "stdout",
          "text": [
            "Valid: Generator Loss = 5.36, Discriminator Loss = 1.394\n",
            "\n"
          ]
        },
        {
          "output_type": "stream",
          "name": "stderr",
          "text": [
            "Epoch 52: 100%|██████████| 32/32 [00:18<00:00,  1.75batch/s]\n"
          ]
        },
        {
          "output_type": "stream",
          "name": "stdout",
          "text": [
            "Valid: Generator Loss = 5.753, Discriminator Loss = 1.419\n",
            "\n"
          ]
        },
        {
          "output_type": "stream",
          "name": "stderr",
          "text": [
            "Epoch 53: 100%|██████████| 32/32 [00:18<00:00,  1.73batch/s]\n"
          ]
        },
        {
          "output_type": "stream",
          "name": "stdout",
          "text": [
            "Valid: Generator Loss = 5.498, Discriminator Loss = 1.4\n",
            "\n"
          ]
        },
        {
          "output_type": "stream",
          "name": "stderr",
          "text": [
            "Epoch 54: 100%|██████████| 32/32 [00:18<00:00,  1.75batch/s]\n"
          ]
        },
        {
          "output_type": "stream",
          "name": "stdout",
          "text": [
            "Valid: Generator Loss = 6.21, Discriminator Loss = 1.427\n",
            "\n"
          ]
        },
        {
          "output_type": "stream",
          "name": "stderr",
          "text": [
            "Epoch 55: 100%|██████████| 32/32 [00:18<00:00,  1.73batch/s]\n"
          ]
        },
        {
          "output_type": "stream",
          "name": "stdout",
          "text": [
            "Valid: Generator Loss = 5.311, Discriminator Loss = 1.511\n",
            "\n"
          ]
        },
        {
          "output_type": "stream",
          "name": "stderr",
          "text": [
            "Epoch 56: 100%|██████████| 32/32 [00:18<00:00,  1.75batch/s]\n"
          ]
        },
        {
          "output_type": "stream",
          "name": "stdout",
          "text": [
            "Valid: Generator Loss = 5.644, Discriminator Loss = 1.654\n",
            "\n"
          ]
        },
        {
          "output_type": "stream",
          "name": "stderr",
          "text": [
            "Epoch 57: 100%|██████████| 32/32 [00:18<00:00,  1.74batch/s]\n"
          ]
        },
        {
          "output_type": "stream",
          "name": "stdout",
          "text": [
            "Model Saved!\n",
            "Valid: Generator Loss = 5.02, Discriminator Loss = 1.581\n",
            "\n"
          ]
        },
        {
          "output_type": "stream",
          "name": "stderr",
          "text": [
            "Epoch 58: 100%|██████████| 32/32 [00:18<00:00,  1.75batch/s]\n"
          ]
        },
        {
          "output_type": "stream",
          "name": "stdout",
          "text": [
            "Valid: Generator Loss = 5.898, Discriminator Loss = 1.548\n",
            "\n"
          ]
        },
        {
          "output_type": "stream",
          "name": "stderr",
          "text": [
            "Epoch 59: 100%|██████████| 32/32 [00:18<00:00,  1.75batch/s]\n"
          ]
        },
        {
          "output_type": "stream",
          "name": "stdout",
          "text": [
            "Valid: Generator Loss = 5.524, Discriminator Loss = 1.546\n",
            "\n"
          ]
        },
        {
          "output_type": "stream",
          "name": "stderr",
          "text": [
            "Epoch 60: 100%|██████████| 32/32 [00:18<00:00,  1.73batch/s]\n"
          ]
        },
        {
          "output_type": "stream",
          "name": "stdout",
          "text": [
            "Valid: Generator Loss = 5.592, Discriminator Loss = 1.606\n",
            "\n"
          ]
        },
        {
          "output_type": "stream",
          "name": "stderr",
          "text": [
            "Epoch 61: 100%|██████████| 32/32 [00:18<00:00,  1.75batch/s]\n"
          ]
        },
        {
          "output_type": "stream",
          "name": "stdout",
          "text": [
            "Valid: Generator Loss = 7.111, Discriminator Loss = 1.438\n",
            "\n"
          ]
        },
        {
          "output_type": "stream",
          "name": "stderr",
          "text": [
            "Epoch 62: 100%|██████████| 32/32 [00:18<00:00,  1.72batch/s]\n"
          ]
        },
        {
          "output_type": "stream",
          "name": "stdout",
          "text": [
            "Valid: Generator Loss = 6.696, Discriminator Loss = 1.482\n",
            "\n"
          ]
        },
        {
          "output_type": "stream",
          "name": "stderr",
          "text": [
            "Epoch 63: 100%|██████████| 32/32 [00:18<00:00,  1.75batch/s]\n"
          ]
        },
        {
          "output_type": "stream",
          "name": "stdout",
          "text": [
            "Valid: Generator Loss = 7.038, Discriminator Loss = 1.504\n",
            "\n"
          ]
        },
        {
          "output_type": "stream",
          "name": "stderr",
          "text": [
            "Epoch 64: 100%|██████████| 32/32 [00:18<00:00,  1.73batch/s]\n"
          ]
        },
        {
          "output_type": "stream",
          "name": "stdout",
          "text": [
            "Valid: Generator Loss = 8.508, Discriminator Loss = 1.769\n",
            "\n"
          ]
        },
        {
          "output_type": "stream",
          "name": "stderr",
          "text": [
            "Epoch 65: 100%|██████████| 32/32 [00:18<00:00,  1.75batch/s]\n"
          ]
        },
        {
          "output_type": "stream",
          "name": "stdout",
          "text": [
            "Valid: Generator Loss = 6.604, Discriminator Loss = 1.507\n",
            "\n"
          ]
        },
        {
          "output_type": "stream",
          "name": "stderr",
          "text": [
            "Epoch 66: 100%|██████████| 32/32 [00:18<00:00,  1.73batch/s]\n"
          ]
        },
        {
          "output_type": "stream",
          "name": "stdout",
          "text": [
            "Valid: Generator Loss = 6.219, Discriminator Loss = 1.547\n",
            "\n"
          ]
        },
        {
          "output_type": "stream",
          "name": "stderr",
          "text": [
            "Epoch 67: 100%|██████████| 32/32 [00:18<00:00,  1.74batch/s]\n"
          ]
        },
        {
          "output_type": "stream",
          "name": "stdout",
          "text": [
            "Valid: Generator Loss = 5.505, Discriminator Loss = 1.525\n",
            "\n"
          ]
        },
        {
          "output_type": "stream",
          "name": "stderr",
          "text": [
            "Epoch 68: 100%|██████████| 32/32 [00:18<00:00,  1.75batch/s]\n"
          ]
        },
        {
          "output_type": "stream",
          "name": "stdout",
          "text": [
            "Valid: Generator Loss = 8.358, Discriminator Loss = 1.699\n",
            "\n"
          ]
        },
        {
          "output_type": "stream",
          "name": "stderr",
          "text": [
            "Epoch 69: 100%|██████████| 32/32 [00:18<00:00,  1.72batch/s]\n"
          ]
        },
        {
          "output_type": "stream",
          "name": "stdout",
          "text": [
            "Valid: Generator Loss = 7.113, Discriminator Loss = 1.462\n",
            "\n"
          ]
        },
        {
          "output_type": "stream",
          "name": "stderr",
          "text": [
            "Epoch 70: 100%|██████████| 32/32 [00:18<00:00,  1.75batch/s]\n"
          ]
        },
        {
          "output_type": "stream",
          "name": "stdout",
          "text": [
            "Valid: Generator Loss = 6.287, Discriminator Loss = 1.478\n",
            "\n"
          ]
        },
        {
          "output_type": "stream",
          "name": "stderr",
          "text": [
            "Epoch 71: 100%|██████████| 32/32 [00:18<00:00,  1.72batch/s]\n"
          ]
        },
        {
          "output_type": "stream",
          "name": "stdout",
          "text": [
            "Valid: Generator Loss = 5.642, Discriminator Loss = 1.451\n",
            "\n"
          ]
        },
        {
          "output_type": "stream",
          "name": "stderr",
          "text": [
            "Epoch 72: 100%|██████████| 32/32 [00:18<00:00,  1.75batch/s]\n"
          ]
        },
        {
          "output_type": "stream",
          "name": "stdout",
          "text": [
            "Valid: Generator Loss = 7.088, Discriminator Loss = 1.619\n",
            "\n"
          ]
        },
        {
          "output_type": "stream",
          "name": "stderr",
          "text": [
            "Epoch 73: 100%|██████████| 32/32 [00:18<00:00,  1.73batch/s]\n"
          ]
        },
        {
          "output_type": "stream",
          "name": "stdout",
          "text": [
            "Valid: Generator Loss = 9.8, Discriminator Loss = 1.552\n",
            "\n"
          ]
        },
        {
          "output_type": "stream",
          "name": "stderr",
          "text": [
            "Epoch 74: 100%|██████████| 32/32 [00:18<00:00,  1.75batch/s]\n"
          ]
        },
        {
          "output_type": "stream",
          "name": "stdout",
          "text": [
            "Valid: Generator Loss = 5.164, Discriminator Loss = 1.429\n",
            "\n"
          ]
        },
        {
          "output_type": "stream",
          "name": "stderr",
          "text": [
            "Epoch 75: 100%|██████████| 32/32 [00:18<00:00,  1.74batch/s]\n"
          ]
        },
        {
          "output_type": "stream",
          "name": "stdout",
          "text": [
            "Valid: Generator Loss = 8.029, Discriminator Loss = 1.452\n",
            "\n"
          ]
        },
        {
          "output_type": "stream",
          "name": "stderr",
          "text": [
            "Epoch 76: 100%|██████████| 32/32 [00:18<00:00,  1.75batch/s]\n"
          ]
        },
        {
          "output_type": "stream",
          "name": "stdout",
          "text": [
            "Valid: Generator Loss = 7.661, Discriminator Loss = 1.795\n",
            "\n"
          ]
        },
        {
          "output_type": "stream",
          "name": "stderr",
          "text": [
            "Epoch 77: 100%|██████████| 32/32 [00:18<00:00,  1.76batch/s]\n"
          ]
        },
        {
          "output_type": "stream",
          "name": "stdout",
          "text": [
            "Valid: Generator Loss = 6.842, Discriminator Loss = 1.805\n",
            "\n"
          ]
        },
        {
          "output_type": "stream",
          "name": "stderr",
          "text": [
            "Epoch 78: 100%|██████████| 32/32 [00:18<00:00,  1.73batch/s]\n"
          ]
        },
        {
          "output_type": "stream",
          "name": "stdout",
          "text": [
            "Valid: Generator Loss = 5.578, Discriminator Loss = 1.583\n",
            "\n"
          ]
        },
        {
          "output_type": "stream",
          "name": "stderr",
          "text": [
            "Epoch 79: 100%|██████████| 32/32 [00:18<00:00,  1.75batch/s]\n"
          ]
        },
        {
          "output_type": "stream",
          "name": "stdout",
          "text": [
            "Valid: Generator Loss = 5.712, Discriminator Loss = 1.47\n",
            "\n"
          ]
        },
        {
          "output_type": "stream",
          "name": "stderr",
          "text": [
            "Epoch 80: 100%|██████████| 32/32 [00:18<00:00,  1.72batch/s]\n"
          ]
        },
        {
          "output_type": "stream",
          "name": "stdout",
          "text": [
            "Valid: Generator Loss = 7.422, Discriminator Loss = 2.343\n",
            "\n"
          ]
        },
        {
          "output_type": "stream",
          "name": "stderr",
          "text": [
            "Epoch 81: 100%|██████████| 32/32 [00:18<00:00,  1.76batch/s]\n"
          ]
        },
        {
          "output_type": "stream",
          "name": "stdout",
          "text": [
            "Valid: Generator Loss = 7.388, Discriminator Loss = 1.782\n",
            "\n"
          ]
        },
        {
          "output_type": "stream",
          "name": "stderr",
          "text": [
            "Epoch 82: 100%|██████████| 32/32 [00:18<00:00,  1.73batch/s]\n"
          ]
        },
        {
          "output_type": "stream",
          "name": "stdout",
          "text": [
            "Valid: Generator Loss = 7.028, Discriminator Loss = 1.939\n",
            "\n"
          ]
        },
        {
          "output_type": "stream",
          "name": "stderr",
          "text": [
            "Epoch 83: 100%|██████████| 32/32 [00:18<00:00,  1.75batch/s]\n"
          ]
        },
        {
          "output_type": "stream",
          "name": "stdout",
          "text": [
            "Valid: Generator Loss = 6.231, Discriminator Loss = 1.526\n",
            "\n"
          ]
        },
        {
          "output_type": "stream",
          "name": "stderr",
          "text": [
            "Epoch 84: 100%|██████████| 32/32 [00:18<00:00,  1.75batch/s]\n"
          ]
        },
        {
          "output_type": "stream",
          "name": "stdout",
          "text": [
            "Valid: Generator Loss = 7.045, Discriminator Loss = 1.623\n",
            "\n"
          ]
        },
        {
          "output_type": "stream",
          "name": "stderr",
          "text": [
            "Epoch 85: 100%|██████████| 32/32 [00:18<00:00,  1.74batch/s]\n"
          ]
        },
        {
          "output_type": "stream",
          "name": "stdout",
          "text": [
            "Valid: Generator Loss = 5.627, Discriminator Loss = 1.509\n",
            "\n"
          ]
        },
        {
          "output_type": "stream",
          "name": "stderr",
          "text": [
            "Epoch 86: 100%|██████████| 32/32 [00:18<00:00,  1.75batch/s]\n"
          ]
        },
        {
          "output_type": "stream",
          "name": "stdout",
          "text": [
            "Valid: Generator Loss = 5.689, Discriminator Loss = 1.472\n",
            "\n"
          ]
        },
        {
          "output_type": "stream",
          "name": "stderr",
          "text": [
            "Epoch 87: 100%|██████████| 32/32 [00:18<00:00,  1.72batch/s]\n"
          ]
        },
        {
          "output_type": "stream",
          "name": "stdout",
          "text": [
            "Valid: Generator Loss = 5.6, Discriminator Loss = 1.49\n",
            "\n"
          ]
        },
        {
          "output_type": "stream",
          "name": "stderr",
          "text": [
            "Epoch 88: 100%|██████████| 32/32 [00:18<00:00,  1.75batch/s]\n"
          ]
        },
        {
          "output_type": "stream",
          "name": "stdout",
          "text": [
            "Valid: Generator Loss = 5.561, Discriminator Loss = 1.615\n",
            "\n"
          ]
        },
        {
          "output_type": "stream",
          "name": "stderr",
          "text": [
            "Epoch 89: 100%|██████████| 32/32 [00:18<00:00,  1.72batch/s]\n"
          ]
        },
        {
          "output_type": "stream",
          "name": "stdout",
          "text": [
            "Model Saved!\n",
            "Valid: Generator Loss = 5.016, Discriminator Loss = 1.483\n",
            "\n"
          ]
        },
        {
          "output_type": "stream",
          "name": "stderr",
          "text": [
            "Epoch 90: 100%|██████████| 32/32 [00:18<00:00,  1.74batch/s]\n"
          ]
        },
        {
          "output_type": "stream",
          "name": "stdout",
          "text": [
            "Valid: Generator Loss = 5.148, Discriminator Loss = 1.457\n",
            "\n"
          ]
        },
        {
          "output_type": "stream",
          "name": "stderr",
          "text": [
            "Epoch 91: 100%|██████████| 32/32 [00:18<00:00,  1.73batch/s]\n"
          ]
        },
        {
          "output_type": "stream",
          "name": "stdout",
          "text": [
            "Model Saved!\n",
            "Valid: Generator Loss = 4.715, Discriminator Loss = 1.396\n",
            "\n"
          ]
        },
        {
          "output_type": "stream",
          "name": "stderr",
          "text": [
            "Epoch 92: 100%|██████████| 32/32 [00:18<00:00,  1.73batch/s]\n"
          ]
        },
        {
          "output_type": "stream",
          "name": "stdout",
          "text": [
            "Model Saved!\n",
            "Valid: Generator Loss = 4.667, Discriminator Loss = 1.368\n",
            "\n"
          ]
        },
        {
          "output_type": "stream",
          "name": "stderr",
          "text": [
            "Epoch 93: 100%|██████████| 32/32 [00:18<00:00,  1.75batch/s]\n"
          ]
        },
        {
          "output_type": "stream",
          "name": "stdout",
          "text": [
            "Model Saved!\n",
            "Valid: Generator Loss = 4.541, Discriminator Loss = 1.382\n",
            "\n"
          ]
        },
        {
          "output_type": "stream",
          "name": "stderr",
          "text": [
            "Epoch 94: 100%|██████████| 32/32 [00:18<00:00,  1.72batch/s]\n"
          ]
        },
        {
          "output_type": "stream",
          "name": "stdout",
          "text": [
            "Valid: Generator Loss = 5.148, Discriminator Loss = 1.389\n",
            "\n"
          ]
        },
        {
          "output_type": "stream",
          "name": "stderr",
          "text": [
            "Epoch 95: 100%|██████████| 32/32 [00:18<00:00,  1.74batch/s]\n"
          ]
        },
        {
          "output_type": "stream",
          "name": "stdout",
          "text": [
            "Valid: Generator Loss = 4.617, Discriminator Loss = 1.371\n",
            "\n"
          ]
        },
        {
          "output_type": "stream",
          "name": "stderr",
          "text": [
            "Epoch 96: 100%|██████████| 32/32 [00:18<00:00,  1.72batch/s]\n"
          ]
        },
        {
          "output_type": "stream",
          "name": "stdout",
          "text": [
            "Model Saved!\n",
            "Valid: Generator Loss = 4.525, Discriminator Loss = 1.395\n",
            "\n"
          ]
        },
        {
          "output_type": "stream",
          "name": "stderr",
          "text": [
            "Epoch 97: 100%|██████████| 32/32 [00:18<00:00,  1.74batch/s]\n"
          ]
        },
        {
          "output_type": "stream",
          "name": "stdout",
          "text": [
            "Valid: Generator Loss = 5.856, Discriminator Loss = 1.513\n",
            "\n"
          ]
        },
        {
          "output_type": "stream",
          "name": "stderr",
          "text": [
            "Epoch 98: 100%|██████████| 32/32 [00:18<00:00,  1.74batch/s]\n"
          ]
        },
        {
          "output_type": "stream",
          "name": "stdout",
          "text": [
            "Valid: Generator Loss = 6.524, Discriminator Loss = 1.462\n",
            "\n"
          ]
        },
        {
          "output_type": "stream",
          "name": "stderr",
          "text": [
            "Epoch 99: 100%|██████████| 32/32 [00:18<00:00,  1.73batch/s]\n"
          ]
        },
        {
          "output_type": "stream",
          "name": "stdout",
          "text": [
            "Valid: Generator Loss = 5.03, Discriminator Loss = 1.38\n",
            "\n"
          ]
        }
      ]
    },
    {
      "cell_type": "code",
      "source": [
        "model = torch.load(\"/content/G_model.pt\")"
      ],
      "metadata": {
        "id": "rzxVTtwyrrof",
        "outputId": "2cf64f97-6034-48f8-eee3-358cb22cae60",
        "colab": {
          "base_uri": "https://localhost:8080/"
        }
      },
      "execution_count": null,
      "outputs": [
        {
          "output_type": "stream",
          "name": "stderr",
          "text": [
            "<ipython-input-46-032cff6d230a>:1: FutureWarning: You are using `torch.load` with `weights_only=False` (the current default value), which uses the default pickle module implicitly. It is possible to construct malicious pickle data which will execute arbitrary code during unpickling (See https://github.com/pytorch/pytorch/blob/main/SECURITY.md#untrusted-models for more details). In a future release, the default value for `weights_only` will be flipped to `True`. This limits the functions that could be executed during unpickling. Arbitrary objects will no longer be allowed to be loaded via this mode unless they are explicitly allowlisted by the user via `torch.serialization.add_safe_globals`. We recommend you start setting `weights_only=True` for any use case where you don't have full control of the loaded file. Please open an issue on GitHub for any issues related to this experimental feature.\n",
            "  model = torch.load(\"/content/G_model.pt\")\n"
          ]
        }
      ]
    },
    {
      "cell_type": "markdown",
      "source": [
        "## 🟠 Plot"
      ],
      "metadata": {
        "id": "oK20iNRI3Xxb"
      }
    },
    {
      "cell_type": "markdown",
      "source": [
        "🔰 Plot learning curves"
      ],
      "metadata": {
        "id": "IKlLvCwuzEAA"
      }
    },
    {
      "cell_type": "code",
      "source": [
        "plt.figure(figsize=(8, 6))\n",
        "\n",
        "plt.plot(range(epoch_counter), G_loss_valid_hist, 'r-', label='Generator')\n",
        "plt.plot(range(epoch_counter), D_loss_valid_hist, 'b-', label='Discriminator')\n",
        "\n",
        "plt.xlabel('Epoch')\n",
        "plt.ylabel('loss')\n",
        "plt.grid(True)\n",
        "plt.legend()"
      ],
      "metadata": {
        "id": "KYFzTsdIOkVp",
        "colab": {
          "base_uri": "https://localhost:8080/",
          "height": 581
        },
        "outputId": "f335add7-f9e8-4384-c9ed-05a7b084b72a"
      },
      "execution_count": null,
      "outputs": [
        {
          "output_type": "execute_result",
          "data": {
            "text/plain": [
              "<matplotlib.legend.Legend at 0x7cbf3d9a3460>"
            ]
          },
          "metadata": {},
          "execution_count": 47
        },
        {
          "output_type": "display_data",
          "data": {
            "text/plain": [
              "<Figure size 800x600 with 1 Axes>"
            ],
            "image/png": "[encoded data removed]"
          },
          "metadata": {}
        }
      ]
    },
    {
      "cell_type": "markdown",
      "source": [
        "# 🔴 **Test**"
      ],
      "metadata": {
        "id": "KZ9UIdmkfxlA"
      }
    },
    {
      "cell_type": "markdown",
      "source": [
        "🔰 Test your model using data from the test set"
      ],
      "metadata": {
        "id": "SO8iPWH1zVYn"
      }
    },
    {
      "cell_type": "code",
      "source": [
        "fig, axes = plt.subplots(4, 2)\n",
        "for i in range(4):\n",
        "  idx = random.randint(0, len(validset) - 1)\n",
        "\n",
        "  inputs = validset[idx][0].to(device)\n",
        "  targets = validset[idx][1].to(device)\n",
        "  hair = validset[idx][2].to(device)\n",
        "  shirt = validset[idx][3].to(device)\n",
        "\n",
        "  new_inputs = torch.cat([hair, shirt, inputs])\n",
        "\n",
        "  outputs = model(new_inputs.unsqueeze(0))\n",
        "\n",
        "  # print(f\"hair: {number2color[hair[0][0][0].item()]}, shirt: {number2color[shirt[0][0][0].item()]}\")\n",
        "\n",
        "  axes[i][0].imshow(inputs.cpu().permute(1, 2, 0)), axes[i][0].axis('off');\n",
        "  axes[i][1].imshow(outputs[0].cpu().permute(1, 2, 0).detach().numpy()), axes[i][1].axis('off');"
      ],
      "metadata": {
        "id": "35sn67IhKcm_",
        "colab": {
          "base_uri": "https://localhost:8080/",
          "height": 575
        },
        "outputId": "6022a127-e318-4bb6-d436-e0c0ef7b8f72"
      },
      "execution_count": null,
      "outputs": [
        {
          "output_type": "stream",
          "name": "stderr",
          "text": [
            "WARNING:matplotlib.image:Clipping input data to the valid range for imshow with RGB data ([0..1] for floats or [0..255] for integers).\n",
            "WARNING:matplotlib.image:Clipping input data to the valid range for imshow with RGB data ([0..1] for floats or [0..255] for integers).\n",
            "WARNING:matplotlib.image:Clipping input data to the valid range for imshow with RGB data ([0..1] for floats or [0..255] for integers).\n",
            "WARNING:matplotlib.image:Clipping input data to the valid range for imshow with RGB data ([0..1] for floats or [0..255] for integers).\n",
            "WARNING:matplotlib.image:Clipping input data to the valid range for imshow with RGB data ([0..1] for floats or [0..255] for integers).\n",
            "WARNING:matplotlib.image:Clipping input data to the valid range for imshow with RGB data ([0..1] for floats or [0..255] for integers).\n",
            "WARNING:matplotlib.image:Clipping input data to the valid range for imshow with RGB data ([0..1] for floats or [0..255] for integers).\n",
            "WARNING:matplotlib.image:Clipping input data to the valid range for imshow with RGB data ([0..1] for floats or [0..255] for integers).\n"
          ]
        },
        {
          "output_type": "display_data",
          "data": {
            "text/plain": [
              "<Figure size 640x480 with 8 Axes>"
            ],
            "image/png": "[encoded data removed]"
          },
          "metadata": {}
        }
      ]
    }
  ]
}